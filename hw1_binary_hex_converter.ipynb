{
  "nbformat": 4,
  "nbformat_minor": 0,
  "metadata": {
    "colab": {
      "provenance": []
    },
    "kernelspec": {
      "name": "python3",
      "display_name": "Python 3"
    },
    "language_info": {
      "name": "python"
    }
  },
  "cells": [
    {
      "cell_type": "markdown",
      "source": [
        "\n",
        "\n",
        "*   可使用範圍:非負整數皆可\n",
        "\n",
        "\n",
        "\n"
      ],
      "metadata": {
        "id": "yD5cAG0-MOds"
      }
    },
    {
      "cell_type": "code",
      "source": [
        "def binary_hex_converter(decimal:int) -> tuple:\n",
        "  if decimal == 0:\n",
        "    return {  \"binary\" : 0,\n",
        "         \"hex\"  : 0 \n",
        "         }\n",
        "  else:\n",
        "    ans = {  \"binary\" : decimal,\n",
        "          \"hex\"  : decimal \n",
        "          }\n",
        "    # 十進位轉二進位\n",
        "    n = 0\n",
        "    while 2**n <= ans[\"binary\"] :\n",
        "      n+= 1\n",
        "    bi = [\"0\"]*n\n",
        "\n",
        "    for i in range(1,n+1):\n",
        "      if ans[\"binary\"] % 2 == 1:\n",
        "        bi[-i] = \"1\"\n",
        "      ans[\"binary\"] = ans[\"binary\"]//2\n",
        "    ans[\"binary\"] = int(\"\".join(bi))\n",
        "    \n",
        "    # 十進位轉十六進位\n",
        "    n = 0\n",
        "    while 16**n <= ans[\"hex\"] :\n",
        "      n+= 1\n",
        "    hex = [0]*n\n",
        "\n",
        "    for i in range(1,n+1):\n",
        "      if ans[\"hex\"] % 16 < 10:\n",
        "        hex[-i] = str(ans[\"hex\"] % 16)\n",
        "      elif ans[\"hex\"] % 16 == 10:\n",
        "        hex[-i] = \"A\"\n",
        "      elif ans[\"hex\"] % 16 == 11:\n",
        "        hex[-i] = \"B\"\n",
        "      elif ans[\"hex\"] % 16 == 12:\n",
        "        hex[-i] = \"C\"\n",
        "      elif ans[\"hex\"] % 16 == 13:\n",
        "        hex[-i] = \"D\"\n",
        "      elif ans[\"hex\"] % 16 == 14:\n",
        "        hex[-i] = \"E\"\n",
        "      elif ans[\"hex\"] % 16 == 15:\n",
        "        hex[-i] = \"F\"\n",
        "      ans[\"hex\"] = ans[\"hex\"]//16\n",
        "    ans[\"hex\"] = \"\".join(hex)\n",
        "\n",
        "    return ans\n",
        "\n",
        "binary_hex_converter(234)"
      ],
      "metadata": {
        "colab": {
          "base_uri": "https://localhost:8080/"
        },
        "outputId": "ef3e569f-ba4c-488c-bee9-5717e7e34d7e",
        "id": "Le44IRCiIsMn"
      },
      "execution_count": 1,
      "outputs": [
        {
          "output_type": "execute_result",
          "data": {
            "text/plain": [
              "{'binary': 11101010, 'hex': 'EA'}"
            ]
          },
          "metadata": {},
          "execution_count": 1
        }
      ]
    },
    {
      "cell_type": "code",
      "source": [
        "def binary_hex_converter(decimal:int) -> tuple:\n",
        "  if decimal == 0:\n",
        "    return {  \"binary\" : 0,\n",
        "         \"hex\"  : 0 \n",
        "         }\n",
        "  else:\n",
        "    ans = {  \"binary\" : decimal,\n",
        "          \"hex\"  : decimal \n",
        "          }\n",
        "    # 十進位轉二進位\n",
        "    n = 0\n",
        "    while 2**n <= ans[\"binary\"] :\n",
        "      n+= 1\n",
        "    bi = [\"0\"]*n\n",
        "\n",
        "    for i in range(1,n+1):\n",
        "      if ans[\"binary\"] % 2 == 1:\n",
        "        bi[-i] = \"1\"\n",
        "      ans[\"binary\"] = ans[\"binary\"]//2\n",
        "    ans[\"binary\"] = int(\"\".join(bi))\n",
        "    \n",
        "    # 十進位轉十六進位\n",
        "    n = 0\n",
        "    while 16**n <= ans[\"hex\"] :\n",
        "      n+= 1\n",
        "    hex = [0]*n\n",
        "\n",
        "    for i in range(1,n+1):\n",
        "      if ans[\"hex\"] % 16 < 10:\n",
        "        hex[-i] = str(ans[\"hex\"] % 16)\n",
        "      else:\n",
        "        hex[-i] = chr(ord(\"A\") + (ans[\"hex\"] % 16 - 10)) \n",
        "      ans[\"hex\"] = ans[\"hex\"]//16\n",
        "    ans[\"hex\"] = \"\".join(hex)\n",
        "\n",
        "    return ans\n",
        "\n",
        "binary_hex_converter(0)"
      ],
      "metadata": {
        "colab": {
          "base_uri": "https://localhost:8080/"
        },
        "id": "ovFFz7nxDb2g",
        "outputId": "6a77db3b-6182-43f9-b529-bed7693f0bb4"
      },
      "execution_count": null,
      "outputs": [
        {
          "output_type": "execute_result",
          "data": {
            "text/plain": [
              "{'binary': 0, 'hex': 0}"
            ]
          },
          "metadata": {},
          "execution_count": 36
        }
      ]
    }
  ]
}