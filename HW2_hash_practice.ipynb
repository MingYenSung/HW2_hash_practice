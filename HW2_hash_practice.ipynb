{
  "nbformat": 4,
  "nbformat_minor": 0,
  "metadata": {
    "colab": {
      "provenance": [],
      "collapsed_sections": [
        "ko1jOd7M52ya"
      ],
      "toc_visible": true
    },
    "kernelspec": {
      "name": "python3",
      "display_name": "Python 3"
    },
    "language_info": {
      "name": "python"
    }
  },
  "cells": [
    {
      "cell_type": "markdown",
      "source": [
        "# HW2\n",
        "附檔資料「hw2_data.txt」是一份近千行的字串資料。每一行只有一個英文字，且文字重複率很高。請寫一隻程式讀進這個檔案，逐行讀進這些英文字，並統計出以下兩點：\n",
        " \n",
        "1. 總共有多少個不重複的英文字\n",
        "2. 每一個英文字出現次數為和"
      ],
      "metadata": {
        "id": "ko1jOd7M52ya"
      }
    },
    {
      "cell_type": "code",
      "source": [
        "with open('/content/hw2_data.txt', 'r') as file:\n",
        "  data = file.read()\n",
        "\n",
        "words = data.splitlines()  \n",
        "type(words)"
      ],
      "metadata": {
        "id": "_g6ijAYE24_L",
        "colab": {
          "base_uri": "https://localhost:8080/"
        },
        "outputId": "db188221-a67a-4d0c-e146-6e0eea857af1"
      },
      "execution_count": 1,
      "outputs": [
        {
          "output_type": "execute_result",
          "data": {
            "text/plain": [
              "list"
            ]
          },
          "metadata": {},
          "execution_count": 1
        }
      ]
    },
    {
      "cell_type": "markdown",
      "source": [
        "## 法一(try...catch...)\n",
        "雖然這題用到try catch有點太嚴重，據我所知此用法應該是在無法把錯誤一一列出排除時才使用的，但因為我剛學會此用法所以我想試試\n"
      ],
      "metadata": {
        "id": "BeG3Afj1AZjN"
      }
    },
    {
      "cell_type": "code",
      "source": [
        "def calculate_wordfreq(word_list:list):\n",
        "  word_dict = {}\n",
        "  for word in word_list:\n",
        "    try:\n",
        "      word_dict[word] += 1\n",
        "    except KeyError as e:  #錯誤時的處理方式\n",
        "      print(e) #將錯誤處印出\n",
        "      word_dict[word] = 1\n",
        "\n",
        "  print(f\"\\n總共有{len(word_dict.keys())}個不重複的英文字\\n\")\n",
        "\n",
        "  for word,freq in word_dict.items():  \n",
        "    print(f\"{word} 出現{freq}次\") \n",
        "\n",
        "if __name__ == \"__main__\":\n",
        "  calculate_wordfreq(data.splitlines())"
      ],
      "metadata": {
        "colab": {
          "base_uri": "https://localhost:8080/"
        },
        "id": "m3K-UWVLNCKP",
        "outputId": "c536e75e-1972-4cdc-9f8f-2f2eac1a9ffd"
      },
      "execution_count": 5,
      "outputs": [
        {
          "output_type": "stream",
          "name": "stdout",
          "text": [
            "'Cheese'\n",
            "'Pizza'\n",
            "'Coke'\n",
            "'Steak'\n",
            "'Burger'\n",
            "'Fries'\n",
            "'Rib'\n",
            "'Taco'\n",
            "'Pho'\n",
            "'Potato'\n",
            "\n",
            "總共有10個不重複的英文字\n",
            "\n",
            "Cheese 出現234次\n",
            "Pizza 出現83次\n",
            "Coke 出現145次\n",
            "Steak 出現46次\n",
            "Burger 出現196次\n",
            "Fries 出現76次\n",
            "Rib 出現33次\n",
            "Taco 出現57次\n",
            "Pho 出現19次\n",
            "Potato 出現3次\n"
          ]
        }
      ]
    },
    {
      "cell_type": "markdown",
      "source": [
        "## 法二(if else + dict.get)"
      ],
      "metadata": {
        "id": "4kznppT6B5LA"
      }
    },
    {
      "cell_type": "code",
      "source": [
        "def calculate_wordfreq_2(word_list:list):\n",
        "  word_dict = {}\n",
        "  for word in word_list:\n",
        "    if word_dict.get(word) == None:   #dict.get():當key不存在於dict中跳出的預設值為None\n",
        "      word_dict[word] = 1\n",
        "    else:\n",
        "      word_dict[word] += 1\n",
        "\n",
        "  print(f\"總共有{len(word_dict.keys())}個不重複的英文字\\n\")\n",
        "\n",
        "  for word,freq in word_dict.items():  \n",
        "    print(f\"{word} 出現{freq}次\") \n",
        "\n",
        "if __name__ == \"__main__\":\n",
        "  calculate_wordfreq_2(data.splitlines())"
      ],
      "metadata": {
        "colab": {
          "base_uri": "https://localhost:8080/"
        },
        "id": "fjrldDIH5x4g",
        "outputId": "53812e24-c030-4bc4-cfff-1dbc1ad88755"
      },
      "execution_count": 7,
      "outputs": [
        {
          "output_type": "stream",
          "name": "stdout",
          "text": [
            "總共有10個不重複的英文字\n",
            "\n",
            "Cheese 出現234次\n",
            "Pizza 出現83次\n",
            "Coke 出現145次\n",
            "Steak 出現46次\n",
            "Burger 出現196次\n",
            "Fries 出現76次\n",
            "Rib 出現33次\n",
            "Taco 出現57次\n",
            "Pho 出現19次\n",
            "Potato 出現3次\n"
          ]
        }
      ]
    },
    {
      "cell_type": "markdown",
      "source": [
        "## 法三(if else + in dict)"
      ],
      "metadata": {
        "id": "hIN9tXg8DEFx"
      }
    },
    {
      "cell_type": "code",
      "source": [
        "def calculate_wordfreq_3(word_list:list):\n",
        "  word_dict = {}\n",
        "  for word in word_list:\n",
        "    if word in word_dict:\n",
        "      word_dict[word] += 1\n",
        "    else: \n",
        "      word_dict[word] = 1\n",
        "\n",
        "  print(f\"總共有{len(word_dict.keys())}個不重複的英文字\\n\")\n",
        "\n",
        "  for word,freq in word_dict.items():  \n",
        "    print(f\"{word} 出現{freq}次\") \n",
        "\n",
        "if __name__ == \"__main__\":\n",
        "  calculate_wordfreq_3(data.splitlines())"
      ],
      "metadata": {
        "colab": {
          "base_uri": "https://localhost:8080/"
        },
        "outputId": "32210056-0195-4d14-b18a-e2a9443a8a30",
        "id": "hY0NdqinDA77"
      },
      "execution_count": 8,
      "outputs": [
        {
          "output_type": "stream",
          "name": "stdout",
          "text": [
            "總共有10個不重複的英文字\n",
            "\n",
            "Cheese 出現234次\n",
            "Pizza 出現83次\n",
            "Coke 出現145次\n",
            "Steak 出現46次\n",
            "Burger 出現196次\n",
            "Fries 出現76次\n",
            "Rib 出現33次\n",
            "Taco 出現57次\n",
            "Pho 出現19次\n",
            "Potato 出現3次\n"
          ]
        }
      ]
    },
    {
      "cell_type": "markdown",
      "source": [
        "## 法四(defaultdict)\n",
        "\n",
        "\n",
        "*   collections.defaultdict()用在，要生成一个字典，但是又没有默認值的情况，可以使用它來生成一个默認值，而不發生keyerror\n",
        "\n",
        "*   https://blog.nowcoder.net/n/2aef535877a84165b8b7d99032ecbf09\n",
        "\n",
        "*   若傳入的值，不事先定義好類型，也會發生keyerror\n",
        "\n",
        "\n",
        "\n",
        "\n"
      ],
      "metadata": {
        "id": "6q_RNwMsC4Ho"
      }
    },
    {
      "cell_type": "code",
      "source": [
        "from collections import defaultdict\n",
        "\n",
        "def calculate_wordfreq_4(word_list:list):\n",
        "  word_dict = defaultdict(int) #給定型別int，默認值为0\n",
        "  for word in word_list:\n",
        "    word_dict[word] += 1\n",
        "\n",
        "  print(f\"總共有{len(word_dict.keys())}個不重複的英文字\\n\")\n",
        "\n",
        "  for word,freq in word_dict.items():  \n",
        "    print(f\"{word} 出現{freq}次\") \n",
        "\n",
        "if __name__ == \"__main__\":\n",
        "  calculate_wordfreq_4(data.splitlines())"
      ],
      "metadata": {
        "colab": {
          "base_uri": "https://localhost:8080/"
        },
        "id": "WchAdtVwJJlm",
        "outputId": "47f407e2-7182-4ec9-e349-1cb346bdd6c3"
      },
      "execution_count": 15,
      "outputs": [
        {
          "output_type": "stream",
          "name": "stdout",
          "text": [
            "總共有10個不重複的英文字\n",
            "\n",
            "Cheese 出現234次\n",
            "Pizza 出現83次\n",
            "Coke 出現145次\n",
            "Steak 出現46次\n",
            "Burger 出現196次\n",
            "Fries 出現76次\n",
            "Rib 出現33次\n",
            "Taco 出現57次\n",
            "Pho 出現19次\n",
            "Potato 出現3次\n"
          ]
        }
      ]
    },
    {
      "cell_type": "code",
      "source": [
        "from collections import defaultdict\n",
        "\n",
        "def calculate_wordfreq_4(word_list:list):\n",
        "  word_dict = defaultdict(lambda : 0) #也可以自己給定0\n",
        "  for word in word_list:\n",
        "    word_dict[word] += 1\n",
        "\n",
        "  print(f\"總共有{len(word_dict.keys())}個不重複的英文字\\n\")\n",
        "\n",
        "  for word,freq in word_dict.items():  \n",
        "    print(f\"{word} 出現{freq}次\") \n",
        "\n",
        "if __name__ == \"__main__\":\n",
        "  calculate_wordfreq_4(data.splitlines())"
      ],
      "metadata": {
        "colab": {
          "base_uri": "https://localhost:8080/"
        },
        "outputId": "005ef3d9-8237-4852-dfa8-8738d1fd0622",
        "id": "8ogq09c8Jd4a"
      },
      "execution_count": null,
      "outputs": [
        {
          "output_type": "stream",
          "name": "stdout",
          "text": [
            "總共有10個不重複的英文字\n",
            "\n",
            "Cheese 出現234次\n",
            "Pizza 出現83次\n",
            "Coke 出現145次\n",
            "Steak 出現46次\n",
            "Burger 出現196次\n",
            "Fries 出現76次\n",
            "Rib 出現33次\n",
            "Taco 出現57次\n",
            "Pho 出現19次\n",
            "Potato 出現3次\n"
          ]
        }
      ]
    }
  ]
}