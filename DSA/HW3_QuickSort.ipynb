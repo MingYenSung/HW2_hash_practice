{
 "cells": [
  {
   "cell_type": "code",
   "execution_count": 26,
   "metadata": {},
   "outputs": [],
   "source": [
    "def quick_sort(nlist):\n",
    "    if len(nlist) <= 1:\n",
    "        return nlist\n",
    "    else:\n",
    "        refer_index = 0 #參考點設定，一開始設為index=0的數字\n",
    "        left_index = 1\n",
    "        right_index = len(nlist) - 1\n",
    "\n",
    "\n",
    "        #開始與參考點比較，初步停在左邊比參考點大，右邊停在比參考點小的位置， 停下來後如果 左邊 比右邊 大就交換，反之繼續找\n",
    "        while left_index <= right_index: #避免左右指標交錯，卻沒有跳出迴圈而造成錯誤，故設定讓左指標不能大於右指標\n",
    "            while left_index <= right_index and nlist[left_index] <= nlist[refer_index]:\n",
    "                left_index += 1\n",
    "            while left_index <= right_index and nlist[right_index] >= nlist[refer_index]:\n",
    "                right_index -= 1\n",
    "            if left_index <= right_index:\n",
    "                nlist[left_index], nlist[right_index] = nlist[right_index], nlist[left_index]\n",
    "                print(f\"第{left_index}個index({nlist[left_index]}) 與 第{right_index}個index({nlist[right_index]})交換，變成{nlist}\")\n",
    "                \n",
    "        \n",
    "        nlist[refer_index], nlist[right_index] = nlist[right_index], nlist[refer_index]\n",
    "        print(f\"第{refer_index}個index({nlist[refer_index]}) 與 第{right_index}個index({nlist[right_index]})交換，變成{nlist}\")\n",
    "        \n",
    "\n",
    "        left = quick_sort(nlist[:right_index])\n",
    "        right = quick_sort(nlist[right_index+1:])\n",
    "        return left + [nlist[right_index]] + right"
   ]
  },
  {
   "cell_type": "code",
   "execution_count": 25,
   "metadata": {},
   "outputs": [
    {
     "name": "stdout",
     "output_type": "stream",
     "text": [
      "原始list： [6, 1, 5, 7, 3, 9, 4, 2, 8]\n",
      "第3個index(2) 與 第7個index(7)交換，變成[6, 1, 5, 2, 3, 9, 4, 7, 8]\n",
      "第5個index(4) 與 第6個index(9)交換，變成[6, 1, 5, 2, 3, 4, 9, 7, 8]\n",
      "第0個index(4) 與 第5個index(6)交換，變成[4, 1, 5, 2, 3, 6, 9, 7, 8]\n",
      "第2個index(3) 與 第4個index(5)交換，變成[4, 1, 3, 2, 5]\n",
      "第0個index(2) 與 第3個index(4)交換，變成[2, 1, 3, 4, 5]\n",
      "第0個index(1) 與 第1個index(2)交換，變成[1, 2, 3]\n",
      "第0個index(8) 與 第2個index(9)交換，變成[8, 7, 9]\n",
      "第0個index(7) 與 第1個index(8)交換，變成[7, 8]\n",
      "排序後list： [1, 2, 3, 4, 5, 6, 7, 8, 9]\n"
     ]
    }
   ],
   "source": [
    "data_1 = [6, 1, 5, 7, 3, 9, 4, 2, 8]\n",
    "print(\"原始list：\", data_1)\n",
    "print(\"排序後list：\", quick_sort(data_1))"
   ]
  }
 ],
 "metadata": {
  "kernelspec": {
   "display_name": "Python 3",
   "language": "python",
   "name": "python3"
  },
  "language_info": {
   "codemirror_mode": {
    "name": "ipython",
    "version": 3
   },
   "file_extension": ".py",
   "mimetype": "text/x-python",
   "name": "python",
   "nbconvert_exporter": "python",
   "pygments_lexer": "ipython3",
   "version": "3.11.1"
  },
  "orig_nbformat": 4
 },
 "nbformat": 4,
 "nbformat_minor": 2
}
