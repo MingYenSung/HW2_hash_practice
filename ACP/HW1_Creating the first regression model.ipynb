{
  "cells": [
    {
      "cell_type": "markdown",
      "metadata": {
        "id": "bTCUqeo_xTum"
      },
      "source": [
        "## Ex2 - Simple & Multiple Regression using Scikit-Learn"
      ]
    },
    {
      "cell_type": "markdown",
      "source": [
        "*   Student ID: m301111001\n",
        "*   Student Name: 宋明晏"
      ],
      "metadata": {
        "id": "i0-0Xz7qxTuo"
      }
    },
    {
      "cell_type": "markdown",
      "metadata": {
        "id": "3b0yHeNmxTup"
      },
      "source": [
        "### Import libraries"
      ]
    },
    {
      "cell_type": "code",
      "execution_count": 5,
      "metadata": {
        "id": "p533pBe8xTup",
        "colab": {
          "base_uri": "https://localhost:8080/"
        },
        "outputId": "48d8cd8e-6431-4a02-8145-67745cc74f7f"
      },
      "outputs": [
        {
          "output_type": "stream",
          "name": "stdout",
          "text": [
            "Mounted at /content/gdrive\n"
          ]
        }
      ],
      "source": [
        "import pandas as pd\n",
        "import numpy as np\n",
        "import sklearn\n",
        "import matplotlib.pyplot as plt\n",
        "\n",
        "from google.colab import drive\n",
        "import pandas as pd\n",
        "drive.mount('/content/gdrive')"
      ]
    },
    {
      "cell_type": "markdown",
      "metadata": {
        "id": "4_mtV9VhxTup"
      },
      "source": [
        "### Load dataset"
      ]
    },
    {
      "cell_type": "code",
      "execution_count": 6,
      "metadata": {
        "id": "MgZCRqXlxTup"
      },
      "outputs": [],
      "source": [
        "df_insurance = pd.read_csv('/content/gdrive/Shareddrives/06_computer science/00_master_course/advanced/HW1_Creating the first regression model/insurance.csv')"
      ]
    },
    {
      "cell_type": "code",
      "source": [
        "df_insurance.shape"
      ],
      "metadata": {
        "colab": {
          "base_uri": "https://localhost:8080/"
        },
        "id": "bc6X6RMhBRko",
        "outputId": "daa83014-baf1-4fdd-b013-e9084d9dfe0b"
      },
      "execution_count": 18,
      "outputs": [
        {
          "output_type": "execute_result",
          "data": {
            "text/plain": [
              "(1338, 7)"
            ]
          },
          "metadata": {},
          "execution_count": 18
        }
      ]
    },
    {
      "cell_type": "markdown",
      "metadata": {
        "id": "-8oCMxGxxTup"
      },
      "source": [
        "### Question 1 - \n",
        "Create a **Regression model** to predict the insurance charges of patients using their BMIs"
      ]
    },
    {
      "cell_type": "markdown",
      "source": [
        "#### LinearRegression\n",
        "*   https://scikit-learn.org/stable/modules/generated/sklearn.linear_model.LinearRegression.html#sklearn.linear_model.LinearRegression"
      ],
      "metadata": {
        "id": "AJPkPPTOENhS"
      }
    },
    {
      "cell_type": "code",
      "execution_count": 75,
      "metadata": {
        "id": "Zf366Y1sxTuq"
      },
      "outputs": [],
      "source": [
        "X = df_insurance['bmi'].values.reshape(-1,1)\n",
        "y = df_insurance['charges'].values.reshape(-1,1)\n",
        "\n",
        "from sklearn.model_selection import train_test_split\n",
        "X_train, X_test, y_train, y_test = train_test_split(X, y, test_size=0.25)"
      ]
    },
    {
      "cell_type": "code",
      "source": [
        "from sklearn.linear_model import LinearRegression\n",
        "lireg_uni = LinearRegression().fit(X_train, y_train)"
      ],
      "metadata": {
        "id": "51SBT0dRCUL3"
      },
      "execution_count": 76,
      "outputs": []
    },
    {
      "cell_type": "code",
      "source": [
        "lireg_uni.get_params(deep=True)"
      ],
      "metadata": {
        "colab": {
          "base_uri": "https://localhost:8080/"
        },
        "id": "2iAMMDUJD9zP",
        "outputId": "5277e883-c929-435a-9f95-61db370bc0ff"
      },
      "execution_count": 77,
      "outputs": [
        {
          "output_type": "execute_result",
          "data": {
            "text/plain": [
              "{'copy_X': True, 'fit_intercept': True, 'n_jobs': None, 'positive': False}"
            ]
          },
          "metadata": {},
          "execution_count": 77
        }
      ]
    },
    {
      "cell_type": "code",
      "source": [
        "y_pred = lireg_uni.predict(X_test)"
      ],
      "metadata": {
        "id": "LexFX1w3GDtn"
      },
      "execution_count": 78,
      "outputs": []
    },
    {
      "cell_type": "code",
      "source": [
        "lireg_uni.score(X_train,y_train)"
      ],
      "metadata": {
        "colab": {
          "base_uri": "https://localhost:8080/"
        },
        "id": "eWv9HPdqGGK-",
        "outputId": "30271dda-03aa-457d-9ff0-ae12f94da52b"
      },
      "execution_count": 79,
      "outputs": [
        {
          "output_type": "execute_result",
          "data": {
            "text/plain": [
              "0.043763255699021175"
            ]
          },
          "metadata": {},
          "execution_count": 79
        }
      ]
    },
    {
      "cell_type": "code",
      "source": [
        "lireg_uni_result = pd.DataFrame({'Actual':y_test.flatten(),'Predicted':y_pred.flatten()})\n",
        "lireg_uni_result"
      ],
      "metadata": {
        "colab": {
          "base_uri": "https://localhost:8080/",
          "height": 423
        },
        "id": "h7hYzpNHE4yG",
        "outputId": "1ebf054e-4253-4b9e-ce3c-28a474aff354"
      },
      "execution_count": 80,
      "outputs": [
        {
          "output_type": "execute_result",
          "data": {
            "text/plain": [
              "          Actual     Predicted\n",
              "0     6250.43500  10268.222626\n",
              "1    13607.36875  13988.821473\n",
              "2    12643.37780  14849.412162\n",
              "3    19214.70553  15871.768019\n",
              "4    10461.97940  13701.957909\n",
              "..           ...           ...\n",
              "330  27724.28875  15492.159094\n",
              "331   1743.21400  12727.053168\n",
              "332   1704.70015  10218.614641\n",
              "333  30166.61817  10915.283295\n",
              "334  13974.45555  13824.899436\n",
              "\n",
              "[335 rows x 2 columns]"
            ],
            "text/html": [
              "\n",
              "  <div id=\"df-e95979ee-d3cd-4fba-8443-4818225931e6\">\n",
              "    <div class=\"colab-df-container\">\n",
              "      <div>\n",
              "<style scoped>\n",
              "    .dataframe tbody tr th:only-of-type {\n",
              "        vertical-align: middle;\n",
              "    }\n",
              "\n",
              "    .dataframe tbody tr th {\n",
              "        vertical-align: top;\n",
              "    }\n",
              "\n",
              "    .dataframe thead th {\n",
              "        text-align: right;\n",
              "    }\n",
              "</style>\n",
              "<table border=\"1\" class=\"dataframe\">\n",
              "  <thead>\n",
              "    <tr style=\"text-align: right;\">\n",
              "      <th></th>\n",
              "      <th>Actual</th>\n",
              "      <th>Predicted</th>\n",
              "    </tr>\n",
              "  </thead>\n",
              "  <tbody>\n",
              "    <tr>\n",
              "      <th>0</th>\n",
              "      <td>6250.43500</td>\n",
              "      <td>10268.222626</td>\n",
              "    </tr>\n",
              "    <tr>\n",
              "      <th>1</th>\n",
              "      <td>13607.36875</td>\n",
              "      <td>13988.821473</td>\n",
              "    </tr>\n",
              "    <tr>\n",
              "      <th>2</th>\n",
              "      <td>12643.37780</td>\n",
              "      <td>14849.412162</td>\n",
              "    </tr>\n",
              "    <tr>\n",
              "      <th>3</th>\n",
              "      <td>19214.70553</td>\n",
              "      <td>15871.768019</td>\n",
              "    </tr>\n",
              "    <tr>\n",
              "      <th>4</th>\n",
              "      <td>10461.97940</td>\n",
              "      <td>13701.957909</td>\n",
              "    </tr>\n",
              "    <tr>\n",
              "      <th>...</th>\n",
              "      <td>...</td>\n",
              "      <td>...</td>\n",
              "    </tr>\n",
              "    <tr>\n",
              "      <th>330</th>\n",
              "      <td>27724.28875</td>\n",
              "      <td>15492.159094</td>\n",
              "    </tr>\n",
              "    <tr>\n",
              "      <th>331</th>\n",
              "      <td>1743.21400</td>\n",
              "      <td>12727.053168</td>\n",
              "    </tr>\n",
              "    <tr>\n",
              "      <th>332</th>\n",
              "      <td>1704.70015</td>\n",
              "      <td>10218.614641</td>\n",
              "    </tr>\n",
              "    <tr>\n",
              "      <th>333</th>\n",
              "      <td>30166.61817</td>\n",
              "      <td>10915.283295</td>\n",
              "    </tr>\n",
              "    <tr>\n",
              "      <th>334</th>\n",
              "      <td>13974.45555</td>\n",
              "      <td>13824.899436</td>\n",
              "    </tr>\n",
              "  </tbody>\n",
              "</table>\n",
              "<p>335 rows × 2 columns</p>\n",
              "</div>\n",
              "      <button class=\"colab-df-convert\" onclick=\"convertToInteractive('df-e95979ee-d3cd-4fba-8443-4818225931e6')\"\n",
              "              title=\"Convert this dataframe to an interactive table.\"\n",
              "              style=\"display:none;\">\n",
              "        \n",
              "  <svg xmlns=\"http://www.w3.org/2000/svg\" height=\"24px\"viewBox=\"0 0 24 24\"\n",
              "       width=\"24px\">\n",
              "    <path d=\"M0 0h24v24H0V0z\" fill=\"none\"/>\n",
              "    <path d=\"M18.56 5.44l.94 2.06.94-2.06 2.06-.94-2.06-.94-.94-2.06-.94 2.06-2.06.94zm-11 1L8.5 8.5l.94-2.06 2.06-.94-2.06-.94L8.5 2.5l-.94 2.06-2.06.94zm10 10l.94 2.06.94-2.06 2.06-.94-2.06-.94-.94-2.06-.94 2.06-2.06.94z\"/><path d=\"M17.41 7.96l-1.37-1.37c-.4-.4-.92-.59-1.43-.59-.52 0-1.04.2-1.43.59L10.3 9.45l-7.72 7.72c-.78.78-.78 2.05 0 2.83L4 21.41c.39.39.9.59 1.41.59.51 0 1.02-.2 1.41-.59l7.78-7.78 2.81-2.81c.8-.78.8-2.07 0-2.86zM5.41 20L4 18.59l7.72-7.72 1.47 1.35L5.41 20z\"/>\n",
              "  </svg>\n",
              "      </button>\n",
              "      \n",
              "  <style>\n",
              "    .colab-df-container {\n",
              "      display:flex;\n",
              "      flex-wrap:wrap;\n",
              "      gap: 12px;\n",
              "    }\n",
              "\n",
              "    .colab-df-convert {\n",
              "      background-color: #E8F0FE;\n",
              "      border: none;\n",
              "      border-radius: 50%;\n",
              "      cursor: pointer;\n",
              "      display: none;\n",
              "      fill: #1967D2;\n",
              "      height: 32px;\n",
              "      padding: 0 0 0 0;\n",
              "      width: 32px;\n",
              "    }\n",
              "\n",
              "    .colab-df-convert:hover {\n",
              "      background-color: #E2EBFA;\n",
              "      box-shadow: 0px 1px 2px rgba(60, 64, 67, 0.3), 0px 1px 3px 1px rgba(60, 64, 67, 0.15);\n",
              "      fill: #174EA6;\n",
              "    }\n",
              "\n",
              "    [theme=dark] .colab-df-convert {\n",
              "      background-color: #3B4455;\n",
              "      fill: #D2E3FC;\n",
              "    }\n",
              "\n",
              "    [theme=dark] .colab-df-convert:hover {\n",
              "      background-color: #434B5C;\n",
              "      box-shadow: 0px 1px 3px 1px rgba(0, 0, 0, 0.15);\n",
              "      filter: drop-shadow(0px 1px 2px rgba(0, 0, 0, 0.3));\n",
              "      fill: #FFFFFF;\n",
              "    }\n",
              "  </style>\n",
              "\n",
              "      <script>\n",
              "        const buttonEl =\n",
              "          document.querySelector('#df-e95979ee-d3cd-4fba-8443-4818225931e6 button.colab-df-convert');\n",
              "        buttonEl.style.display =\n",
              "          google.colab.kernel.accessAllowed ? 'block' : 'none';\n",
              "\n",
              "        async function convertToInteractive(key) {\n",
              "          const element = document.querySelector('#df-e95979ee-d3cd-4fba-8443-4818225931e6');\n",
              "          const dataTable =\n",
              "            await google.colab.kernel.invokeFunction('convertToInteractive',\n",
              "                                                     [key], {});\n",
              "          if (!dataTable) return;\n",
              "\n",
              "          const docLinkHtml = 'Like what you see? Visit the ' +\n",
              "            '<a target=\"_blank\" href=https://colab.research.google.com/notebooks/data_table.ipynb>data table notebook</a>'\n",
              "            + ' to learn more about interactive tables.';\n",
              "          element.innerHTML = '';\n",
              "          dataTable['output_type'] = 'display_data';\n",
              "          await google.colab.output.renderOutput(dataTable, element);\n",
              "          const docLink = document.createElement('div');\n",
              "          docLink.innerHTML = docLinkHtml;\n",
              "          element.appendChild(docLink);\n",
              "        }\n",
              "      </script>\n",
              "    </div>\n",
              "  </div>\n",
              "  "
            ]
          },
          "metadata": {},
          "execution_count": 80
        }
      ]
    },
    {
      "cell_type": "code",
      "source": [
        "# Intercept\n",
        "intercept = lireg_uni.intercept_[0]\n",
        "# Slope\n",
        "slope = lireg_uni.coef_[0][0]\n",
        "\n",
        "intercept,slope"
      ],
      "metadata": {
        "colab": {
          "base_uri": "https://localhost:8080/"
        },
        "id": "gCrL16xnCb4v",
        "outputId": "0595430e-491d-4e61-ec5f-505a850a8ca6"
      },
      "execution_count": 81,
      "outputs": [
        {
          "output_type": "execute_result",
          "data": {
            "text/plain": [
              "(260.3509446629323, 431.37377935181064)"
            ]
          },
          "metadata": {},
          "execution_count": 81
        }
      ]
    },
    {
      "cell_type": "code",
      "source": [
        "def regression_evaluation(test,pred):\n",
        "  from sklearn import metrics\n",
        "  MAE = metrics.mean_absolute_error(test,pred)\n",
        "  MSE = metrics.mean_squared_error(test,pred)\n",
        "  RMSE =  np.sqrt(metrics.mean_squared_error(test, pred))\n",
        "  return MAE,MSE,RMSE"
      ],
      "metadata": {
        "id": "Rvt1t96B5vjr"
      },
      "execution_count": 82,
      "outputs": []
    },
    {
      "cell_type": "code",
      "source": [
        "lireg_uni_metrics = regression_evaluation(y_test,y_pred)\n",
        "lireg_uni_metrics"
      ],
      "metadata": {
        "colab": {
          "base_uri": "https://localhost:8080/"
        },
        "id": "u7qVBKmJ6mVN",
        "outputId": "fb0a075c-6b96-49ac-987f-72ad59d2c01b"
      },
      "execution_count": 83,
      "outputs": [
        {
          "output_type": "execute_result",
          "data": {
            "text/plain": [
              "(8777.565144761144, 124135069.39311826, 11141.591869796624)"
            ]
          },
          "metadata": {},
          "execution_count": 83
        }
      ]
    },
    {
      "cell_type": "markdown",
      "metadata": {
        "id": "10ZoMRUjxTuq"
      },
      "source": [
        "### Question 2 - \n",
        "Create a **Multiple Regression** model to predict the insurance charges of patients (using Age, BMI, number of children)"
      ]
    },
    {
      "cell_type": "code",
      "source": [
        "df_insurance.columns"
      ],
      "metadata": {
        "colab": {
          "base_uri": "https://localhost:8080/"
        },
        "id": "KD8Fa72II-aO",
        "outputId": "616651dc-5525-4903-f5ec-79fd5a639e7d"
      },
      "execution_count": 84,
      "outputs": [
        {
          "output_type": "execute_result",
          "data": {
            "text/plain": [
              "Index(['age', 'sex', 'bmi', 'children', 'smoker', 'region', 'charges'], dtype='object')"
            ]
          },
          "metadata": {},
          "execution_count": 84
        }
      ]
    },
    {
      "cell_type": "code",
      "execution_count": 85,
      "metadata": {
        "id": "NtxkfcvfxTuq"
      },
      "outputs": [],
      "source": [
        "X = df_insurance[['age', 'bmi', 'children']]\n",
        "y = df_insurance['charges']\n",
        "\n",
        "from sklearn.model_selection import train_test_split\n",
        "X_train, X_test, y_train, y_test = train_test_split(X, y, test_size=0.25)"
      ]
    },
    {
      "cell_type": "markdown",
      "source": [
        "#### LinearRegression"
      ],
      "metadata": {
        "id": "21TsN5Wv3N5D"
      }
    },
    {
      "cell_type": "code",
      "source": [
        "from sklearn.linear_model import LinearRegression\n",
        "lireg_three = LinearRegression().fit(X_train, y_train)"
      ],
      "metadata": {
        "id": "jPCb8a6KJSRd"
      },
      "execution_count": 86,
      "outputs": []
    },
    {
      "cell_type": "code",
      "source": [
        "y_pred = lireg_three.predict(X_test)"
      ],
      "metadata": {
        "id": "wBz8uJFzJvd8"
      },
      "execution_count": 87,
      "outputs": []
    },
    {
      "cell_type": "code",
      "source": [
        "lireg_three_result = pd.DataFrame({'Actual':y_test,'Predicted':y_pred})\n",
        "lireg_three_result.reset_index()"
      ],
      "metadata": {
        "colab": {
          "base_uri": "https://localhost:8080/",
          "height": 423
        },
        "id": "NcsK2JLvJ7zz",
        "outputId": "ba3e409c-f46a-4fe3-fab6-fab208f8e698"
      },
      "execution_count": 88,
      "outputs": [
        {
          "output_type": "execute_result",
          "data": {
            "text/plain": [
              "     index       Actual     Predicted\n",
              "0      945  11674.13000  18941.386024\n",
              "1     1100  16776.30405   8238.019916\n",
              "2      247   1986.93340  11042.908848\n",
              "3      585   4779.60230  10953.182708\n",
              "4      462  15230.32405  21803.588695\n",
              "..     ...          ...           ...\n",
              "330    267  14590.63205  19684.572384\n",
              "331    693   2352.96845   6557.366987\n",
              "332   1122  46661.44240  19963.586237\n",
              "333    699   3500.61230  13382.756213\n",
              "334   1144   9630.39700  16949.932346\n",
              "\n",
              "[335 rows x 3 columns]"
            ],
            "text/html": [
              "\n",
              "  <div id=\"df-5d63e53c-2117-4228-8d0d-87b0865d1841\">\n",
              "    <div class=\"colab-df-container\">\n",
              "      <div>\n",
              "<style scoped>\n",
              "    .dataframe tbody tr th:only-of-type {\n",
              "        vertical-align: middle;\n",
              "    }\n",
              "\n",
              "    .dataframe tbody tr th {\n",
              "        vertical-align: top;\n",
              "    }\n",
              "\n",
              "    .dataframe thead th {\n",
              "        text-align: right;\n",
              "    }\n",
              "</style>\n",
              "<table border=\"1\" class=\"dataframe\">\n",
              "  <thead>\n",
              "    <tr style=\"text-align: right;\">\n",
              "      <th></th>\n",
              "      <th>index</th>\n",
              "      <th>Actual</th>\n",
              "      <th>Predicted</th>\n",
              "    </tr>\n",
              "  </thead>\n",
              "  <tbody>\n",
              "    <tr>\n",
              "      <th>0</th>\n",
              "      <td>945</td>\n",
              "      <td>11674.13000</td>\n",
              "      <td>18941.386024</td>\n",
              "    </tr>\n",
              "    <tr>\n",
              "      <th>1</th>\n",
              "      <td>1100</td>\n",
              "      <td>16776.30405</td>\n",
              "      <td>8238.019916</td>\n",
              "    </tr>\n",
              "    <tr>\n",
              "      <th>2</th>\n",
              "      <td>247</td>\n",
              "      <td>1986.93340</td>\n",
              "      <td>11042.908848</td>\n",
              "    </tr>\n",
              "    <tr>\n",
              "      <th>3</th>\n",
              "      <td>585</td>\n",
              "      <td>4779.60230</td>\n",
              "      <td>10953.182708</td>\n",
              "    </tr>\n",
              "    <tr>\n",
              "      <th>4</th>\n",
              "      <td>462</td>\n",
              "      <td>15230.32405</td>\n",
              "      <td>21803.588695</td>\n",
              "    </tr>\n",
              "    <tr>\n",
              "      <th>...</th>\n",
              "      <td>...</td>\n",
              "      <td>...</td>\n",
              "      <td>...</td>\n",
              "    </tr>\n",
              "    <tr>\n",
              "      <th>330</th>\n",
              "      <td>267</td>\n",
              "      <td>14590.63205</td>\n",
              "      <td>19684.572384</td>\n",
              "    </tr>\n",
              "    <tr>\n",
              "      <th>331</th>\n",
              "      <td>693</td>\n",
              "      <td>2352.96845</td>\n",
              "      <td>6557.366987</td>\n",
              "    </tr>\n",
              "    <tr>\n",
              "      <th>332</th>\n",
              "      <td>1122</td>\n",
              "      <td>46661.44240</td>\n",
              "      <td>19963.586237</td>\n",
              "    </tr>\n",
              "    <tr>\n",
              "      <th>333</th>\n",
              "      <td>699</td>\n",
              "      <td>3500.61230</td>\n",
              "      <td>13382.756213</td>\n",
              "    </tr>\n",
              "    <tr>\n",
              "      <th>334</th>\n",
              "      <td>1144</td>\n",
              "      <td>9630.39700</td>\n",
              "      <td>16949.932346</td>\n",
              "    </tr>\n",
              "  </tbody>\n",
              "</table>\n",
              "<p>335 rows × 3 columns</p>\n",
              "</div>\n",
              "      <button class=\"colab-df-convert\" onclick=\"convertToInteractive('df-5d63e53c-2117-4228-8d0d-87b0865d1841')\"\n",
              "              title=\"Convert this dataframe to an interactive table.\"\n",
              "              style=\"display:none;\">\n",
              "        \n",
              "  <svg xmlns=\"http://www.w3.org/2000/svg\" height=\"24px\"viewBox=\"0 0 24 24\"\n",
              "       width=\"24px\">\n",
              "    <path d=\"M0 0h24v24H0V0z\" fill=\"none\"/>\n",
              "    <path d=\"M18.56 5.44l.94 2.06.94-2.06 2.06-.94-2.06-.94-.94-2.06-.94 2.06-2.06.94zm-11 1L8.5 8.5l.94-2.06 2.06-.94-2.06-.94L8.5 2.5l-.94 2.06-2.06.94zm10 10l.94 2.06.94-2.06 2.06-.94-2.06-.94-.94-2.06-.94 2.06-2.06.94z\"/><path d=\"M17.41 7.96l-1.37-1.37c-.4-.4-.92-.59-1.43-.59-.52 0-1.04.2-1.43.59L10.3 9.45l-7.72 7.72c-.78.78-.78 2.05 0 2.83L4 21.41c.39.39.9.59 1.41.59.51 0 1.02-.2 1.41-.59l7.78-7.78 2.81-2.81c.8-.78.8-2.07 0-2.86zM5.41 20L4 18.59l7.72-7.72 1.47 1.35L5.41 20z\"/>\n",
              "  </svg>\n",
              "      </button>\n",
              "      \n",
              "  <style>\n",
              "    .colab-df-container {\n",
              "      display:flex;\n",
              "      flex-wrap:wrap;\n",
              "      gap: 12px;\n",
              "    }\n",
              "\n",
              "    .colab-df-convert {\n",
              "      background-color: #E8F0FE;\n",
              "      border: none;\n",
              "      border-radius: 50%;\n",
              "      cursor: pointer;\n",
              "      display: none;\n",
              "      fill: #1967D2;\n",
              "      height: 32px;\n",
              "      padding: 0 0 0 0;\n",
              "      width: 32px;\n",
              "    }\n",
              "\n",
              "    .colab-df-convert:hover {\n",
              "      background-color: #E2EBFA;\n",
              "      box-shadow: 0px 1px 2px rgba(60, 64, 67, 0.3), 0px 1px 3px 1px rgba(60, 64, 67, 0.15);\n",
              "      fill: #174EA6;\n",
              "    }\n",
              "\n",
              "    [theme=dark] .colab-df-convert {\n",
              "      background-color: #3B4455;\n",
              "      fill: #D2E3FC;\n",
              "    }\n",
              "\n",
              "    [theme=dark] .colab-df-convert:hover {\n",
              "      background-color: #434B5C;\n",
              "      box-shadow: 0px 1px 3px 1px rgba(0, 0, 0, 0.15);\n",
              "      filter: drop-shadow(0px 1px 2px rgba(0, 0, 0, 0.3));\n",
              "      fill: #FFFFFF;\n",
              "    }\n",
              "  </style>\n",
              "\n",
              "      <script>\n",
              "        const buttonEl =\n",
              "          document.querySelector('#df-5d63e53c-2117-4228-8d0d-87b0865d1841 button.colab-df-convert');\n",
              "        buttonEl.style.display =\n",
              "          google.colab.kernel.accessAllowed ? 'block' : 'none';\n",
              "\n",
              "        async function convertToInteractive(key) {\n",
              "          const element = document.querySelector('#df-5d63e53c-2117-4228-8d0d-87b0865d1841');\n",
              "          const dataTable =\n",
              "            await google.colab.kernel.invokeFunction('convertToInteractive',\n",
              "                                                     [key], {});\n",
              "          if (!dataTable) return;\n",
              "\n",
              "          const docLinkHtml = 'Like what you see? Visit the ' +\n",
              "            '<a target=\"_blank\" href=https://colab.research.google.com/notebooks/data_table.ipynb>data table notebook</a>'\n",
              "            + ' to learn more about interactive tables.';\n",
              "          element.innerHTML = '';\n",
              "          dataTable['output_type'] = 'display_data';\n",
              "          await google.colab.output.renderOutput(dataTable, element);\n",
              "          const docLink = document.createElement('div');\n",
              "          docLink.innerHTML = docLinkHtml;\n",
              "          element.appendChild(docLink);\n",
              "        }\n",
              "      </script>\n",
              "    </div>\n",
              "  </div>\n",
              "  "
            ]
          },
          "metadata": {},
          "execution_count": 88
        }
      ]
    },
    {
      "cell_type": "code",
      "source": [
        "lireg_three_metrics = regression_evaluation(y_test,y_pred)\n",
        "lireg_three_metrics"
      ],
      "metadata": {
        "colab": {
          "base_uri": "https://localhost:8080/"
        },
        "id": "IuM_lRAL4Whb",
        "outputId": "60ef2edc-2cb2-4af4-a9b3-64b88f14a75d"
      },
      "execution_count": 89,
      "outputs": [
        {
          "output_type": "execute_result",
          "data": {
            "text/plain": [
              "(9285.992217641624, 133710582.35773538, 11563.329207357861)"
            ]
          },
          "metadata": {},
          "execution_count": 89
        }
      ]
    },
    {
      "cell_type": "markdown",
      "metadata": {
        "id": "91g0uv7gxTuq"
      },
      "source": [
        "### Question 3 - \n",
        "Using all of attributes (age, sex, bmi, children, smoker, region) to predict the insurance charges."
      ]
    },
    {
      "cell_type": "raw",
      "metadata": {
        "id": "3R5ruMM3xTuq"
      },
      "source": [
        "#### LabelEncoder\n",
        "\n",
        "\n",
        "* Note that there are some variables as categorial values (sex, smoker, region), let's transform them into numerical values before training model.\n",
        "* Tips: use \"sklearn.preprocessing.LabelEncoder\" \n",
        "\n",
        "(https://scikit-learn.org/stable/modules/generated/sklearn.preprocessing.LabelEncoder.html)"
      ]
    },
    {
      "cell_type": "markdown",
      "source": [
        "le = preprocessing.LabelEncoder()\n",
        "\n",
        "*   le.fit()\n",
        "*   le.classes_\n",
        "*   le.transform\n",
        "*   le.inverse_transform\n",
        "\n",
        "\n",
        "\n"
      ],
      "metadata": {
        "id": "WhuH1u_zuapX"
      }
    },
    {
      "cell_type": "code",
      "source": [
        "df_insurance.head()"
      ],
      "metadata": {
        "colab": {
          "base_uri": "https://localhost:8080/",
          "height": 206
        },
        "id": "zYMCVC_pPz6L",
        "outputId": "4b458a06-2630-4aac-9223-9c9db83e79bb"
      },
      "execution_count": 90,
      "outputs": [
        {
          "output_type": "execute_result",
          "data": {
            "text/plain": [
              "   age  sex     bmi  children  smoker  region      charges\n",
              "0   19    0  27.900         0       1       3  16884.92400\n",
              "1   18    1  33.770         1       0       2   1725.55230\n",
              "2   28    1  33.000         3       0       2   4449.46200\n",
              "3   33    1  22.705         0       0       1  21984.47061\n",
              "4   32    1  28.880         0       0       1   3866.85520"
            ],
            "text/html": [
              "\n",
              "  <div id=\"df-9356908e-40a0-4405-bee4-ded30755f546\">\n",
              "    <div class=\"colab-df-container\">\n",
              "      <div>\n",
              "<style scoped>\n",
              "    .dataframe tbody tr th:only-of-type {\n",
              "        vertical-align: middle;\n",
              "    }\n",
              "\n",
              "    .dataframe tbody tr th {\n",
              "        vertical-align: top;\n",
              "    }\n",
              "\n",
              "    .dataframe thead th {\n",
              "        text-align: right;\n",
              "    }\n",
              "</style>\n",
              "<table border=\"1\" class=\"dataframe\">\n",
              "  <thead>\n",
              "    <tr style=\"text-align: right;\">\n",
              "      <th></th>\n",
              "      <th>age</th>\n",
              "      <th>sex</th>\n",
              "      <th>bmi</th>\n",
              "      <th>children</th>\n",
              "      <th>smoker</th>\n",
              "      <th>region</th>\n",
              "      <th>charges</th>\n",
              "    </tr>\n",
              "  </thead>\n",
              "  <tbody>\n",
              "    <tr>\n",
              "      <th>0</th>\n",
              "      <td>19</td>\n",
              "      <td>0</td>\n",
              "      <td>27.900</td>\n",
              "      <td>0</td>\n",
              "      <td>1</td>\n",
              "      <td>3</td>\n",
              "      <td>16884.92400</td>\n",
              "    </tr>\n",
              "    <tr>\n",
              "      <th>1</th>\n",
              "      <td>18</td>\n",
              "      <td>1</td>\n",
              "      <td>33.770</td>\n",
              "      <td>1</td>\n",
              "      <td>0</td>\n",
              "      <td>2</td>\n",
              "      <td>1725.55230</td>\n",
              "    </tr>\n",
              "    <tr>\n",
              "      <th>2</th>\n",
              "      <td>28</td>\n",
              "      <td>1</td>\n",
              "      <td>33.000</td>\n",
              "      <td>3</td>\n",
              "      <td>0</td>\n",
              "      <td>2</td>\n",
              "      <td>4449.46200</td>\n",
              "    </tr>\n",
              "    <tr>\n",
              "      <th>3</th>\n",
              "      <td>33</td>\n",
              "      <td>1</td>\n",
              "      <td>22.705</td>\n",
              "      <td>0</td>\n",
              "      <td>0</td>\n",
              "      <td>1</td>\n",
              "      <td>21984.47061</td>\n",
              "    </tr>\n",
              "    <tr>\n",
              "      <th>4</th>\n",
              "      <td>32</td>\n",
              "      <td>1</td>\n",
              "      <td>28.880</td>\n",
              "      <td>0</td>\n",
              "      <td>0</td>\n",
              "      <td>1</td>\n",
              "      <td>3866.85520</td>\n",
              "    </tr>\n",
              "  </tbody>\n",
              "</table>\n",
              "</div>\n",
              "      <button class=\"colab-df-convert\" onclick=\"convertToInteractive('df-9356908e-40a0-4405-bee4-ded30755f546')\"\n",
              "              title=\"Convert this dataframe to an interactive table.\"\n",
              "              style=\"display:none;\">\n",
              "        \n",
              "  <svg xmlns=\"http://www.w3.org/2000/svg\" height=\"24px\"viewBox=\"0 0 24 24\"\n",
              "       width=\"24px\">\n",
              "    <path d=\"M0 0h24v24H0V0z\" fill=\"none\"/>\n",
              "    <path d=\"M18.56 5.44l.94 2.06.94-2.06 2.06-.94-2.06-.94-.94-2.06-.94 2.06-2.06.94zm-11 1L8.5 8.5l.94-2.06 2.06-.94-2.06-.94L8.5 2.5l-.94 2.06-2.06.94zm10 10l.94 2.06.94-2.06 2.06-.94-2.06-.94-.94-2.06-.94 2.06-2.06.94z\"/><path d=\"M17.41 7.96l-1.37-1.37c-.4-.4-.92-.59-1.43-.59-.52 0-1.04.2-1.43.59L10.3 9.45l-7.72 7.72c-.78.78-.78 2.05 0 2.83L4 21.41c.39.39.9.59 1.41.59.51 0 1.02-.2 1.41-.59l7.78-7.78 2.81-2.81c.8-.78.8-2.07 0-2.86zM5.41 20L4 18.59l7.72-7.72 1.47 1.35L5.41 20z\"/>\n",
              "  </svg>\n",
              "      </button>\n",
              "      \n",
              "  <style>\n",
              "    .colab-df-container {\n",
              "      display:flex;\n",
              "      flex-wrap:wrap;\n",
              "      gap: 12px;\n",
              "    }\n",
              "\n",
              "    .colab-df-convert {\n",
              "      background-color: #E8F0FE;\n",
              "      border: none;\n",
              "      border-radius: 50%;\n",
              "      cursor: pointer;\n",
              "      display: none;\n",
              "      fill: #1967D2;\n",
              "      height: 32px;\n",
              "      padding: 0 0 0 0;\n",
              "      width: 32px;\n",
              "    }\n",
              "\n",
              "    .colab-df-convert:hover {\n",
              "      background-color: #E2EBFA;\n",
              "      box-shadow: 0px 1px 2px rgba(60, 64, 67, 0.3), 0px 1px 3px 1px rgba(60, 64, 67, 0.15);\n",
              "      fill: #174EA6;\n",
              "    }\n",
              "\n",
              "    [theme=dark] .colab-df-convert {\n",
              "      background-color: #3B4455;\n",
              "      fill: #D2E3FC;\n",
              "    }\n",
              "\n",
              "    [theme=dark] .colab-df-convert:hover {\n",
              "      background-color: #434B5C;\n",
              "      box-shadow: 0px 1px 3px 1px rgba(0, 0, 0, 0.15);\n",
              "      filter: drop-shadow(0px 1px 2px rgba(0, 0, 0, 0.3));\n",
              "      fill: #FFFFFF;\n",
              "    }\n",
              "  </style>\n",
              "\n",
              "      <script>\n",
              "        const buttonEl =\n",
              "          document.querySelector('#df-9356908e-40a0-4405-bee4-ded30755f546 button.colab-df-convert');\n",
              "        buttonEl.style.display =\n",
              "          google.colab.kernel.accessAllowed ? 'block' : 'none';\n",
              "\n",
              "        async function convertToInteractive(key) {\n",
              "          const element = document.querySelector('#df-9356908e-40a0-4405-bee4-ded30755f546');\n",
              "          const dataTable =\n",
              "            await google.colab.kernel.invokeFunction('convertToInteractive',\n",
              "                                                     [key], {});\n",
              "          if (!dataTable) return;\n",
              "\n",
              "          const docLinkHtml = 'Like what you see? Visit the ' +\n",
              "            '<a target=\"_blank\" href=https://colab.research.google.com/notebooks/data_table.ipynb>data table notebook</a>'\n",
              "            + ' to learn more about interactive tables.';\n",
              "          element.innerHTML = '';\n",
              "          dataTable['output_type'] = 'display_data';\n",
              "          await google.colab.output.renderOutput(dataTable, element);\n",
              "          const docLink = document.createElement('div');\n",
              "          docLink.innerHTML = docLinkHtml;\n",
              "          element.appendChild(docLink);\n",
              "        }\n",
              "      </script>\n",
              "    </div>\n",
              "  </div>\n",
              "  "
            ]
          },
          "metadata": {},
          "execution_count": 90
        }
      ]
    },
    {
      "cell_type": "code",
      "execution_count": 91,
      "metadata": {
        "id": "PupcWQZdxTur",
        "colab": {
          "base_uri": "https://localhost:8080/",
          "height": 206
        },
        "outputId": "fce5344b-9eb1-4e1d-9ecd-9d172b820f6e"
      },
      "outputs": [
        {
          "output_type": "execute_result",
          "data": {
            "text/plain": [
              "   age  sex     bmi  children  smoker  region      charges\n",
              "0   19    0  27.900         0       1       3  16884.92400\n",
              "1   18    1  33.770         1       0       2   1725.55230\n",
              "2   28    1  33.000         3       0       2   4449.46200\n",
              "3   33    1  22.705         0       0       1  21984.47061\n",
              "4   32    1  28.880         0       0       1   3866.85520"
            ],
            "text/html": [
              "\n",
              "  <div id=\"df-4090ca69-e928-4758-b712-abac24d1093a\">\n",
              "    <div class=\"colab-df-container\">\n",
              "      <div>\n",
              "<style scoped>\n",
              "    .dataframe tbody tr th:only-of-type {\n",
              "        vertical-align: middle;\n",
              "    }\n",
              "\n",
              "    .dataframe tbody tr th {\n",
              "        vertical-align: top;\n",
              "    }\n",
              "\n",
              "    .dataframe thead th {\n",
              "        text-align: right;\n",
              "    }\n",
              "</style>\n",
              "<table border=\"1\" class=\"dataframe\">\n",
              "  <thead>\n",
              "    <tr style=\"text-align: right;\">\n",
              "      <th></th>\n",
              "      <th>age</th>\n",
              "      <th>sex</th>\n",
              "      <th>bmi</th>\n",
              "      <th>children</th>\n",
              "      <th>smoker</th>\n",
              "      <th>region</th>\n",
              "      <th>charges</th>\n",
              "    </tr>\n",
              "  </thead>\n",
              "  <tbody>\n",
              "    <tr>\n",
              "      <th>0</th>\n",
              "      <td>19</td>\n",
              "      <td>0</td>\n",
              "      <td>27.900</td>\n",
              "      <td>0</td>\n",
              "      <td>1</td>\n",
              "      <td>3</td>\n",
              "      <td>16884.92400</td>\n",
              "    </tr>\n",
              "    <tr>\n",
              "      <th>1</th>\n",
              "      <td>18</td>\n",
              "      <td>1</td>\n",
              "      <td>33.770</td>\n",
              "      <td>1</td>\n",
              "      <td>0</td>\n",
              "      <td>2</td>\n",
              "      <td>1725.55230</td>\n",
              "    </tr>\n",
              "    <tr>\n",
              "      <th>2</th>\n",
              "      <td>28</td>\n",
              "      <td>1</td>\n",
              "      <td>33.000</td>\n",
              "      <td>3</td>\n",
              "      <td>0</td>\n",
              "      <td>2</td>\n",
              "      <td>4449.46200</td>\n",
              "    </tr>\n",
              "    <tr>\n",
              "      <th>3</th>\n",
              "      <td>33</td>\n",
              "      <td>1</td>\n",
              "      <td>22.705</td>\n",
              "      <td>0</td>\n",
              "      <td>0</td>\n",
              "      <td>1</td>\n",
              "      <td>21984.47061</td>\n",
              "    </tr>\n",
              "    <tr>\n",
              "      <th>4</th>\n",
              "      <td>32</td>\n",
              "      <td>1</td>\n",
              "      <td>28.880</td>\n",
              "      <td>0</td>\n",
              "      <td>0</td>\n",
              "      <td>1</td>\n",
              "      <td>3866.85520</td>\n",
              "    </tr>\n",
              "  </tbody>\n",
              "</table>\n",
              "</div>\n",
              "      <button class=\"colab-df-convert\" onclick=\"convertToInteractive('df-4090ca69-e928-4758-b712-abac24d1093a')\"\n",
              "              title=\"Convert this dataframe to an interactive table.\"\n",
              "              style=\"display:none;\">\n",
              "        \n",
              "  <svg xmlns=\"http://www.w3.org/2000/svg\" height=\"24px\"viewBox=\"0 0 24 24\"\n",
              "       width=\"24px\">\n",
              "    <path d=\"M0 0h24v24H0V0z\" fill=\"none\"/>\n",
              "    <path d=\"M18.56 5.44l.94 2.06.94-2.06 2.06-.94-2.06-.94-.94-2.06-.94 2.06-2.06.94zm-11 1L8.5 8.5l.94-2.06 2.06-.94-2.06-.94L8.5 2.5l-.94 2.06-2.06.94zm10 10l.94 2.06.94-2.06 2.06-.94-2.06-.94-.94-2.06-.94 2.06-2.06.94z\"/><path d=\"M17.41 7.96l-1.37-1.37c-.4-.4-.92-.59-1.43-.59-.52 0-1.04.2-1.43.59L10.3 9.45l-7.72 7.72c-.78.78-.78 2.05 0 2.83L4 21.41c.39.39.9.59 1.41.59.51 0 1.02-.2 1.41-.59l7.78-7.78 2.81-2.81c.8-.78.8-2.07 0-2.86zM5.41 20L4 18.59l7.72-7.72 1.47 1.35L5.41 20z\"/>\n",
              "  </svg>\n",
              "      </button>\n",
              "      \n",
              "  <style>\n",
              "    .colab-df-container {\n",
              "      display:flex;\n",
              "      flex-wrap:wrap;\n",
              "      gap: 12px;\n",
              "    }\n",
              "\n",
              "    .colab-df-convert {\n",
              "      background-color: #E8F0FE;\n",
              "      border: none;\n",
              "      border-radius: 50%;\n",
              "      cursor: pointer;\n",
              "      display: none;\n",
              "      fill: #1967D2;\n",
              "      height: 32px;\n",
              "      padding: 0 0 0 0;\n",
              "      width: 32px;\n",
              "    }\n",
              "\n",
              "    .colab-df-convert:hover {\n",
              "      background-color: #E2EBFA;\n",
              "      box-shadow: 0px 1px 2px rgba(60, 64, 67, 0.3), 0px 1px 3px 1px rgba(60, 64, 67, 0.15);\n",
              "      fill: #174EA6;\n",
              "    }\n",
              "\n",
              "    [theme=dark] .colab-df-convert {\n",
              "      background-color: #3B4455;\n",
              "      fill: #D2E3FC;\n",
              "    }\n",
              "\n",
              "    [theme=dark] .colab-df-convert:hover {\n",
              "      background-color: #434B5C;\n",
              "      box-shadow: 0px 1px 3px 1px rgba(0, 0, 0, 0.15);\n",
              "      filter: drop-shadow(0px 1px 2px rgba(0, 0, 0, 0.3));\n",
              "      fill: #FFFFFF;\n",
              "    }\n",
              "  </style>\n",
              "\n",
              "      <script>\n",
              "        const buttonEl =\n",
              "          document.querySelector('#df-4090ca69-e928-4758-b712-abac24d1093a button.colab-df-convert');\n",
              "        buttonEl.style.display =\n",
              "          google.colab.kernel.accessAllowed ? 'block' : 'none';\n",
              "\n",
              "        async function convertToInteractive(key) {\n",
              "          const element = document.querySelector('#df-4090ca69-e928-4758-b712-abac24d1093a');\n",
              "          const dataTable =\n",
              "            await google.colab.kernel.invokeFunction('convertToInteractive',\n",
              "                                                     [key], {});\n",
              "          if (!dataTable) return;\n",
              "\n",
              "          const docLinkHtml = 'Like what you see? Visit the ' +\n",
              "            '<a target=\"_blank\" href=https://colab.research.google.com/notebooks/data_table.ipynb>data table notebook</a>'\n",
              "            + ' to learn more about interactive tables.';\n",
              "          element.innerHTML = '';\n",
              "          dataTable['output_type'] = 'display_data';\n",
              "          await google.colab.output.renderOutput(dataTable, element);\n",
              "          const docLink = document.createElement('div');\n",
              "          docLink.innerHTML = docLinkHtml;\n",
              "          element.appendChild(docLink);\n",
              "        }\n",
              "      </script>\n",
              "    </div>\n",
              "  </div>\n",
              "  "
            ]
          },
          "metadata": {},
          "execution_count": 91
        }
      ],
      "source": [
        "from sklearn import preprocessing\n",
        "le = preprocessing.LabelEncoder()\n",
        "\n",
        "le.fit(df_insurance[\"sex\"].unique())\n",
        "df_insurance[\"sex\"] = le.transform(df_insurance[\"sex\"])\n",
        "\n",
        "le.fit(df_insurance[\"smoker\"].unique())\n",
        "df_insurance[\"smoker\"] = le.transform(df_insurance[\"smoker\"])\n",
        "\n",
        "le.fit(df_insurance[\"region\"].unique())\n",
        "df_insurance[\"region\"] = le.transform(df_insurance[\"region\"])\n",
        "\n",
        "df_insurance.head()"
      ]
    },
    {
      "cell_type": "markdown",
      "source": [
        "#### LinearRegression"
      ],
      "metadata": {
        "id": "AajMq-x62nQ8"
      }
    },
    {
      "cell_type": "code",
      "source": [
        "X = df_insurance.iloc[:,:-1]\n",
        "y = df_insurance['charges']\n",
        "\n",
        "from sklearn.model_selection import train_test_split\n",
        "X_train, X_test, y_train, y_test = train_test_split(X, y, test_size=0.25)"
      ],
      "metadata": {
        "id": "IBVllz7H1h59"
      },
      "execution_count": 92,
      "outputs": []
    },
    {
      "cell_type": "code",
      "source": [
        "from sklearn.linear_model import LinearRegression\n",
        "lireg_multi = LinearRegression().fit(X_train, y_train)"
      ],
      "metadata": {
        "id": "Coa7-Wun19FM"
      },
      "execution_count": 93,
      "outputs": []
    },
    {
      "cell_type": "code",
      "source": [
        "y_pred = lireg_multi.predict(X_test)"
      ],
      "metadata": {
        "id": "EtTX8WWo2C9D"
      },
      "execution_count": 94,
      "outputs": []
    },
    {
      "cell_type": "code",
      "source": [
        "lireg_multi_result = pd.DataFrame({'Actual':y_test,'Predicted':y_pred})\n",
        "lireg_multi_result.reset_index()"
      ],
      "metadata": {
        "colab": {
          "base_uri": "https://localhost:8080/",
          "height": 423
        },
        "id": "sg6xYoje2M30",
        "outputId": "0266b552-acc1-4412-a5b4-a733d3ba4de4"
      },
      "execution_count": 95,
      "outputs": [
        {
          "output_type": "execute_result",
          "data": {
            "text/plain": [
              "     index       Actual     Predicted\n",
              "0      945  11674.13000  13674.629137\n",
              "1      974   2322.62180   5761.534550\n",
              "2      320   4894.75330   5322.658118\n",
              "3      910   2639.04290   3189.543667\n",
              "4      516  27724.28875   4652.626885\n",
              "..     ...          ...           ...\n",
              "330    210   1980.07000   3568.136068\n",
              "331    704   8930.93455   9905.623869\n",
              "332   1136   7623.51800   6977.469782\n",
              "333    870   8457.81800  11967.282156\n",
              "334    978   9704.66805  14142.211387\n",
              "\n",
              "[335 rows x 3 columns]"
            ],
            "text/html": [
              "\n",
              "  <div id=\"df-6e856270-7f6b-4de9-aca2-f5911815b6f8\">\n",
              "    <div class=\"colab-df-container\">\n",
              "      <div>\n",
              "<style scoped>\n",
              "    .dataframe tbody tr th:only-of-type {\n",
              "        vertical-align: middle;\n",
              "    }\n",
              "\n",
              "    .dataframe tbody tr th {\n",
              "        vertical-align: top;\n",
              "    }\n",
              "\n",
              "    .dataframe thead th {\n",
              "        text-align: right;\n",
              "    }\n",
              "</style>\n",
              "<table border=\"1\" class=\"dataframe\">\n",
              "  <thead>\n",
              "    <tr style=\"text-align: right;\">\n",
              "      <th></th>\n",
              "      <th>index</th>\n",
              "      <th>Actual</th>\n",
              "      <th>Predicted</th>\n",
              "    </tr>\n",
              "  </thead>\n",
              "  <tbody>\n",
              "    <tr>\n",
              "      <th>0</th>\n",
              "      <td>945</td>\n",
              "      <td>11674.13000</td>\n",
              "      <td>13674.629137</td>\n",
              "    </tr>\n",
              "    <tr>\n",
              "      <th>1</th>\n",
              "      <td>974</td>\n",
              "      <td>2322.62180</td>\n",
              "      <td>5761.534550</td>\n",
              "    </tr>\n",
              "    <tr>\n",
              "      <th>2</th>\n",
              "      <td>320</td>\n",
              "      <td>4894.75330</td>\n",
              "      <td>5322.658118</td>\n",
              "    </tr>\n",
              "    <tr>\n",
              "      <th>3</th>\n",
              "      <td>910</td>\n",
              "      <td>2639.04290</td>\n",
              "      <td>3189.543667</td>\n",
              "    </tr>\n",
              "    <tr>\n",
              "      <th>4</th>\n",
              "      <td>516</td>\n",
              "      <td>27724.28875</td>\n",
              "      <td>4652.626885</td>\n",
              "    </tr>\n",
              "    <tr>\n",
              "      <th>...</th>\n",
              "      <td>...</td>\n",
              "      <td>...</td>\n",
              "      <td>...</td>\n",
              "    </tr>\n",
              "    <tr>\n",
              "      <th>330</th>\n",
              "      <td>210</td>\n",
              "      <td>1980.07000</td>\n",
              "      <td>3568.136068</td>\n",
              "    </tr>\n",
              "    <tr>\n",
              "      <th>331</th>\n",
              "      <td>704</td>\n",
              "      <td>8930.93455</td>\n",
              "      <td>9905.623869</td>\n",
              "    </tr>\n",
              "    <tr>\n",
              "      <th>332</th>\n",
              "      <td>1136</td>\n",
              "      <td>7623.51800</td>\n",
              "      <td>6977.469782</td>\n",
              "    </tr>\n",
              "    <tr>\n",
              "      <th>333</th>\n",
              "      <td>870</td>\n",
              "      <td>8457.81800</td>\n",
              "      <td>11967.282156</td>\n",
              "    </tr>\n",
              "    <tr>\n",
              "      <th>334</th>\n",
              "      <td>978</td>\n",
              "      <td>9704.66805</td>\n",
              "      <td>14142.211387</td>\n",
              "    </tr>\n",
              "  </tbody>\n",
              "</table>\n",
              "<p>335 rows × 3 columns</p>\n",
              "</div>\n",
              "      <button class=\"colab-df-convert\" onclick=\"convertToInteractive('df-6e856270-7f6b-4de9-aca2-f5911815b6f8')\"\n",
              "              title=\"Convert this dataframe to an interactive table.\"\n",
              "              style=\"display:none;\">\n",
              "        \n",
              "  <svg xmlns=\"http://www.w3.org/2000/svg\" height=\"24px\"viewBox=\"0 0 24 24\"\n",
              "       width=\"24px\">\n",
              "    <path d=\"M0 0h24v24H0V0z\" fill=\"none\"/>\n",
              "    <path d=\"M18.56 5.44l.94 2.06.94-2.06 2.06-.94-2.06-.94-.94-2.06-.94 2.06-2.06.94zm-11 1L8.5 8.5l.94-2.06 2.06-.94-2.06-.94L8.5 2.5l-.94 2.06-2.06.94zm10 10l.94 2.06.94-2.06 2.06-.94-2.06-.94-.94-2.06-.94 2.06-2.06.94z\"/><path d=\"M17.41 7.96l-1.37-1.37c-.4-.4-.92-.59-1.43-.59-.52 0-1.04.2-1.43.59L10.3 9.45l-7.72 7.72c-.78.78-.78 2.05 0 2.83L4 21.41c.39.39.9.59 1.41.59.51 0 1.02-.2 1.41-.59l7.78-7.78 2.81-2.81c.8-.78.8-2.07 0-2.86zM5.41 20L4 18.59l7.72-7.72 1.47 1.35L5.41 20z\"/>\n",
              "  </svg>\n",
              "      </button>\n",
              "      \n",
              "  <style>\n",
              "    .colab-df-container {\n",
              "      display:flex;\n",
              "      flex-wrap:wrap;\n",
              "      gap: 12px;\n",
              "    }\n",
              "\n",
              "    .colab-df-convert {\n",
              "      background-color: #E8F0FE;\n",
              "      border: none;\n",
              "      border-radius: 50%;\n",
              "      cursor: pointer;\n",
              "      display: none;\n",
              "      fill: #1967D2;\n",
              "      height: 32px;\n",
              "      padding: 0 0 0 0;\n",
              "      width: 32px;\n",
              "    }\n",
              "\n",
              "    .colab-df-convert:hover {\n",
              "      background-color: #E2EBFA;\n",
              "      box-shadow: 0px 1px 2px rgba(60, 64, 67, 0.3), 0px 1px 3px 1px rgba(60, 64, 67, 0.15);\n",
              "      fill: #174EA6;\n",
              "    }\n",
              "\n",
              "    [theme=dark] .colab-df-convert {\n",
              "      background-color: #3B4455;\n",
              "      fill: #D2E3FC;\n",
              "    }\n",
              "\n",
              "    [theme=dark] .colab-df-convert:hover {\n",
              "      background-color: #434B5C;\n",
              "      box-shadow: 0px 1px 3px 1px rgba(0, 0, 0, 0.15);\n",
              "      filter: drop-shadow(0px 1px 2px rgba(0, 0, 0, 0.3));\n",
              "      fill: #FFFFFF;\n",
              "    }\n",
              "  </style>\n",
              "\n",
              "      <script>\n",
              "        const buttonEl =\n",
              "          document.querySelector('#df-6e856270-7f6b-4de9-aca2-f5911815b6f8 button.colab-df-convert');\n",
              "        buttonEl.style.display =\n",
              "          google.colab.kernel.accessAllowed ? 'block' : 'none';\n",
              "\n",
              "        async function convertToInteractive(key) {\n",
              "          const element = document.querySelector('#df-6e856270-7f6b-4de9-aca2-f5911815b6f8');\n",
              "          const dataTable =\n",
              "            await google.colab.kernel.invokeFunction('convertToInteractive',\n",
              "                                                     [key], {});\n",
              "          if (!dataTable) return;\n",
              "\n",
              "          const docLinkHtml = 'Like what you see? Visit the ' +\n",
              "            '<a target=\"_blank\" href=https://colab.research.google.com/notebooks/data_table.ipynb>data table notebook</a>'\n",
              "            + ' to learn more about interactive tables.';\n",
              "          element.innerHTML = '';\n",
              "          dataTable['output_type'] = 'display_data';\n",
              "          await google.colab.output.renderOutput(dataTable, element);\n",
              "          const docLink = document.createElement('div');\n",
              "          docLink.innerHTML = docLinkHtml;\n",
              "          element.appendChild(docLink);\n",
              "        }\n",
              "      </script>\n",
              "    </div>\n",
              "  </div>\n",
              "  "
            ]
          },
          "metadata": {},
          "execution_count": 95
        }
      ]
    },
    {
      "cell_type": "code",
      "source": [
        "lireg_multi_metrics = regression_evaluation(y_test,y_pred)\n",
        "lireg_multi_metrics"
      ],
      "metadata": {
        "colab": {
          "base_uri": "https://localhost:8080/"
        },
        "id": "wRLby_ZX5N3T",
        "outputId": "aaa8ce7f-c804-4360-e3d4-277fec15cd3a"
      },
      "execution_count": 96,
      "outputs": [
        {
          "output_type": "execute_result",
          "data": {
            "text/plain": [
              "(4216.479133942186, 39748798.181114696, 6304.664795301547)"
            ]
          },
          "metadata": {},
          "execution_count": 96
        }
      ]
    },
    {
      "cell_type": "markdown",
      "metadata": {
        "id": "tW6LMM3exTur"
      },
      "source": [
        "### Question 4 - \n",
        "Plot a barchart to compare the performance (MSE, RMSE, and MAE) of 3 models in questions 1 to 3"
      ]
    },
    {
      "cell_type": "code",
      "source": [
        "df_comparison = pd.DataFrame({'uni':lireg_uni_metrics,'three':lireg_three_metrics,'muti':lireg_multi_metrics})\n",
        "df_comparison = df_comparison.transpose()\n",
        "\n",
        "df_comparison = df_comparison.reset_index()\n",
        "df_comparison.columns=['type','MSE', 'RMSE', 'MAE']\n",
        "df_comparison"
      ],
      "metadata": {
        "colab": {
          "base_uri": "https://localhost:8080/",
          "height": 143
        },
        "id": "rKtIffR271I6",
        "outputId": "c4776a3f-dff7-499c-f708-0b634c01cc0c"
      },
      "execution_count": 118,
      "outputs": [
        {
          "output_type": "execute_result",
          "data": {
            "text/plain": [
              "    type          MSE          RMSE           MAE\n",
              "0    uni  8777.565145  1.241351e+08  11141.591870\n",
              "1  three  9285.992218  1.337106e+08  11563.329207\n",
              "2   muti  4216.479134  3.974880e+07   6304.664795"
            ],
            "text/html": [
              "\n",
              "  <div id=\"df-446d28c6-954f-44ef-8a34-c40983279039\">\n",
              "    <div class=\"colab-df-container\">\n",
              "      <div>\n",
              "<style scoped>\n",
              "    .dataframe tbody tr th:only-of-type {\n",
              "        vertical-align: middle;\n",
              "    }\n",
              "\n",
              "    .dataframe tbody tr th {\n",
              "        vertical-align: top;\n",
              "    }\n",
              "\n",
              "    .dataframe thead th {\n",
              "        text-align: right;\n",
              "    }\n",
              "</style>\n",
              "<table border=\"1\" class=\"dataframe\">\n",
              "  <thead>\n",
              "    <tr style=\"text-align: right;\">\n",
              "      <th></th>\n",
              "      <th>type</th>\n",
              "      <th>MSE</th>\n",
              "      <th>RMSE</th>\n",
              "      <th>MAE</th>\n",
              "    </tr>\n",
              "  </thead>\n",
              "  <tbody>\n",
              "    <tr>\n",
              "      <th>0</th>\n",
              "      <td>uni</td>\n",
              "      <td>8777.565145</td>\n",
              "      <td>1.241351e+08</td>\n",
              "      <td>11141.591870</td>\n",
              "    </tr>\n",
              "    <tr>\n",
              "      <th>1</th>\n",
              "      <td>three</td>\n",
              "      <td>9285.992218</td>\n",
              "      <td>1.337106e+08</td>\n",
              "      <td>11563.329207</td>\n",
              "    </tr>\n",
              "    <tr>\n",
              "      <th>2</th>\n",
              "      <td>muti</td>\n",
              "      <td>4216.479134</td>\n",
              "      <td>3.974880e+07</td>\n",
              "      <td>6304.664795</td>\n",
              "    </tr>\n",
              "  </tbody>\n",
              "</table>\n",
              "</div>\n",
              "      <button class=\"colab-df-convert\" onclick=\"convertToInteractive('df-446d28c6-954f-44ef-8a34-c40983279039')\"\n",
              "              title=\"Convert this dataframe to an interactive table.\"\n",
              "              style=\"display:none;\">\n",
              "        \n",
              "  <svg xmlns=\"http://www.w3.org/2000/svg\" height=\"24px\"viewBox=\"0 0 24 24\"\n",
              "       width=\"24px\">\n",
              "    <path d=\"M0 0h24v24H0V0z\" fill=\"none\"/>\n",
              "    <path d=\"M18.56 5.44l.94 2.06.94-2.06 2.06-.94-2.06-.94-.94-2.06-.94 2.06-2.06.94zm-11 1L8.5 8.5l.94-2.06 2.06-.94-2.06-.94L8.5 2.5l-.94 2.06-2.06.94zm10 10l.94 2.06.94-2.06 2.06-.94-2.06-.94-.94-2.06-.94 2.06-2.06.94z\"/><path d=\"M17.41 7.96l-1.37-1.37c-.4-.4-.92-.59-1.43-.59-.52 0-1.04.2-1.43.59L10.3 9.45l-7.72 7.72c-.78.78-.78 2.05 0 2.83L4 21.41c.39.39.9.59 1.41.59.51 0 1.02-.2 1.41-.59l7.78-7.78 2.81-2.81c.8-.78.8-2.07 0-2.86zM5.41 20L4 18.59l7.72-7.72 1.47 1.35L5.41 20z\"/>\n",
              "  </svg>\n",
              "      </button>\n",
              "      \n",
              "  <style>\n",
              "    .colab-df-container {\n",
              "      display:flex;\n",
              "      flex-wrap:wrap;\n",
              "      gap: 12px;\n",
              "    }\n",
              "\n",
              "    .colab-df-convert {\n",
              "      background-color: #E8F0FE;\n",
              "      border: none;\n",
              "      border-radius: 50%;\n",
              "      cursor: pointer;\n",
              "      display: none;\n",
              "      fill: #1967D2;\n",
              "      height: 32px;\n",
              "      padding: 0 0 0 0;\n",
              "      width: 32px;\n",
              "    }\n",
              "\n",
              "    .colab-df-convert:hover {\n",
              "      background-color: #E2EBFA;\n",
              "      box-shadow: 0px 1px 2px rgba(60, 64, 67, 0.3), 0px 1px 3px 1px rgba(60, 64, 67, 0.15);\n",
              "      fill: #174EA6;\n",
              "    }\n",
              "\n",
              "    [theme=dark] .colab-df-convert {\n",
              "      background-color: #3B4455;\n",
              "      fill: #D2E3FC;\n",
              "    }\n",
              "\n",
              "    [theme=dark] .colab-df-convert:hover {\n",
              "      background-color: #434B5C;\n",
              "      box-shadow: 0px 1px 3px 1px rgba(0, 0, 0, 0.15);\n",
              "      filter: drop-shadow(0px 1px 2px rgba(0, 0, 0, 0.3));\n",
              "      fill: #FFFFFF;\n",
              "    }\n",
              "  </style>\n",
              "\n",
              "      <script>\n",
              "        const buttonEl =\n",
              "          document.querySelector('#df-446d28c6-954f-44ef-8a34-c40983279039 button.colab-df-convert');\n",
              "        buttonEl.style.display =\n",
              "          google.colab.kernel.accessAllowed ? 'block' : 'none';\n",
              "\n",
              "        async function convertToInteractive(key) {\n",
              "          const element = document.querySelector('#df-446d28c6-954f-44ef-8a34-c40983279039');\n",
              "          const dataTable =\n",
              "            await google.colab.kernel.invokeFunction('convertToInteractive',\n",
              "                                                     [key], {});\n",
              "          if (!dataTable) return;\n",
              "\n",
              "          const docLinkHtml = 'Like what you see? Visit the ' +\n",
              "            '<a target=\"_blank\" href=https://colab.research.google.com/notebooks/data_table.ipynb>data table notebook</a>'\n",
              "            + ' to learn more about interactive tables.';\n",
              "          element.innerHTML = '';\n",
              "          dataTable['output_type'] = 'display_data';\n",
              "          await google.colab.output.renderOutput(dataTable, element);\n",
              "          const docLink = document.createElement('div');\n",
              "          docLink.innerHTML = docLinkHtml;\n",
              "          element.appendChild(docLink);\n",
              "        }\n",
              "      </script>\n",
              "    </div>\n",
              "  </div>\n",
              "  "
            ]
          },
          "metadata": {},
          "execution_count": 118
        }
      ]
    },
    {
      "cell_type": "code",
      "execution_count": 129,
      "metadata": {
        "id": "wiStdjxrxTur",
        "colab": {
          "base_uri": "https://localhost:8080/",
          "height": 542
        },
        "outputId": "46af7d5d-fc6a-4711-b34a-9e1171357688"
      },
      "outputs": [
        {
          "output_type": "display_data",
          "data": {
            "text/html": [
              "<html>\n",
              "<head><meta charset=\"utf-8\" /></head>\n",
              "<body>\n",
              "    <div>            <script src=\"https://cdnjs.cloudflare.com/ajax/libs/mathjax/2.7.5/MathJax.js?config=TeX-AMS-MML_SVG\"></script><script type=\"text/javascript\">if (window.MathJax) {MathJax.Hub.Config({SVG: {font: \"STIX-Web\"}});}</script>                <script type=\"text/javascript\">window.PlotlyConfig = {MathJaxConfig: 'local'};</script>\n",
              "        <script src=\"https://cdn.plot.ly/plotly-2.8.3.min.js\"></script>                <div id=\"00cb2a1a-4a4b-49a4-a315-a3eb7f690e83\" class=\"plotly-graph-div\" style=\"height:525px; width:100%;\"></div>            <script type=\"text/javascript\">                                    window.PLOTLYENV=window.PLOTLYENV || {};                                    if (document.getElementById(\"00cb2a1a-4a4b-49a4-a315-a3eb7f690e83\")) {                    Plotly.newPlot(                        \"00cb2a1a-4a4b-49a4-a315-a3eb7f690e83\",                        [{\"alignmentgroup\":\"True\",\"hovertemplate\":\"variable=MSE<br>type=%{x}<br>value=%{y}<extra></extra>\",\"legendgroup\":\"MSE\",\"marker\":{\"color\":\"#636efa\",\"pattern\":{\"shape\":\"\"}},\"name\":\"MSE\",\"offsetgroup\":\"MSE\",\"orientation\":\"v\",\"showlegend\":true,\"textposition\":\"auto\",\"x\":[\"uni\",\"three\",\"muti\"],\"xaxis\":\"x\",\"y\":[8777.565144761144,9285.992217641624,4216.479133942186],\"yaxis\":\"y\",\"type\":\"bar\"},{\"alignmentgroup\":\"True\",\"hovertemplate\":\"variable=RMSE<br>type=%{x}<br>value=%{y}<extra></extra>\",\"legendgroup\":\"RMSE\",\"marker\":{\"color\":\"#EF553B\",\"pattern\":{\"shape\":\"\"}},\"name\":\"RMSE\",\"offsetgroup\":\"RMSE\",\"orientation\":\"v\",\"showlegend\":true,\"textposition\":\"auto\",\"x\":[\"uni\",\"three\",\"muti\"],\"xaxis\":\"x\",\"y\":[124135069.39311826,133710582.35773538,39748798.181114696],\"yaxis\":\"y\",\"type\":\"bar\"},{\"alignmentgroup\":\"True\",\"hovertemplate\":\"variable=MAE<br>type=%{x}<br>value=%{y}<extra></extra>\",\"legendgroup\":\"MAE\",\"marker\":{\"color\":\"#00cc96\",\"pattern\":{\"shape\":\"\"}},\"name\":\"MAE\",\"offsetgroup\":\"MAE\",\"orientation\":\"v\",\"showlegend\":true,\"textposition\":\"auto\",\"x\":[\"uni\",\"three\",\"muti\"],\"xaxis\":\"x\",\"y\":[11141.591869796624,11563.329207357861,6304.664795301547],\"yaxis\":\"y\",\"type\":\"bar\"}],                        {\"template\":{\"data\":{\"bar\":[{\"error_x\":{\"color\":\"#2a3f5f\"},\"error_y\":{\"color\":\"#2a3f5f\"},\"marker\":{\"line\":{\"color\":\"#E5ECF6\",\"width\":0.5},\"pattern\":{\"fillmode\":\"overlay\",\"size\":10,\"solidity\":0.2}},\"type\":\"bar\"}],\"barpolar\":[{\"marker\":{\"line\":{\"color\":\"#E5ECF6\",\"width\":0.5},\"pattern\":{\"fillmode\":\"overlay\",\"size\":10,\"solidity\":0.2}},\"type\":\"barpolar\"}],\"carpet\":[{\"aaxis\":{\"endlinecolor\":\"#2a3f5f\",\"gridcolor\":\"white\",\"linecolor\":\"white\",\"minorgridcolor\":\"white\",\"startlinecolor\":\"#2a3f5f\"},\"baxis\":{\"endlinecolor\":\"#2a3f5f\",\"gridcolor\":\"white\",\"linecolor\":\"white\",\"minorgridcolor\":\"white\",\"startlinecolor\":\"#2a3f5f\"},\"type\":\"carpet\"}],\"choropleth\":[{\"colorbar\":{\"outlinewidth\":0,\"ticks\":\"\"},\"type\":\"choropleth\"}],\"contour\":[{\"colorbar\":{\"outlinewidth\":0,\"ticks\":\"\"},\"colorscale\":[[0.0,\"#0d0887\"],[0.1111111111111111,\"#46039f\"],[0.2222222222222222,\"#7201a8\"],[0.3333333333333333,\"#9c179e\"],[0.4444444444444444,\"#bd3786\"],[0.5555555555555556,\"#d8576b\"],[0.6666666666666666,\"#ed7953\"],[0.7777777777777778,\"#fb9f3a\"],[0.8888888888888888,\"#fdca26\"],[1.0,\"#f0f921\"]],\"type\":\"contour\"}],\"contourcarpet\":[{\"colorbar\":{\"outlinewidth\":0,\"ticks\":\"\"},\"type\":\"contourcarpet\"}],\"heatmap\":[{\"colorbar\":{\"outlinewidth\":0,\"ticks\":\"\"},\"colorscale\":[[0.0,\"#0d0887\"],[0.1111111111111111,\"#46039f\"],[0.2222222222222222,\"#7201a8\"],[0.3333333333333333,\"#9c179e\"],[0.4444444444444444,\"#bd3786\"],[0.5555555555555556,\"#d8576b\"],[0.6666666666666666,\"#ed7953\"],[0.7777777777777778,\"#fb9f3a\"],[0.8888888888888888,\"#fdca26\"],[1.0,\"#f0f921\"]],\"type\":\"heatmap\"}],\"heatmapgl\":[{\"colorbar\":{\"outlinewidth\":0,\"ticks\":\"\"},\"colorscale\":[[0.0,\"#0d0887\"],[0.1111111111111111,\"#46039f\"],[0.2222222222222222,\"#7201a8\"],[0.3333333333333333,\"#9c179e\"],[0.4444444444444444,\"#bd3786\"],[0.5555555555555556,\"#d8576b\"],[0.6666666666666666,\"#ed7953\"],[0.7777777777777778,\"#fb9f3a\"],[0.8888888888888888,\"#fdca26\"],[1.0,\"#f0f921\"]],\"type\":\"heatmapgl\"}],\"histogram\":[{\"marker\":{\"pattern\":{\"fillmode\":\"overlay\",\"size\":10,\"solidity\":0.2}},\"type\":\"histogram\"}],\"histogram2d\":[{\"colorbar\":{\"outlinewidth\":0,\"ticks\":\"\"},\"colorscale\":[[0.0,\"#0d0887\"],[0.1111111111111111,\"#46039f\"],[0.2222222222222222,\"#7201a8\"],[0.3333333333333333,\"#9c179e\"],[0.4444444444444444,\"#bd3786\"],[0.5555555555555556,\"#d8576b\"],[0.6666666666666666,\"#ed7953\"],[0.7777777777777778,\"#fb9f3a\"],[0.8888888888888888,\"#fdca26\"],[1.0,\"#f0f921\"]],\"type\":\"histogram2d\"}],\"histogram2dcontour\":[{\"colorbar\":{\"outlinewidth\":0,\"ticks\":\"\"},\"colorscale\":[[0.0,\"#0d0887\"],[0.1111111111111111,\"#46039f\"],[0.2222222222222222,\"#7201a8\"],[0.3333333333333333,\"#9c179e\"],[0.4444444444444444,\"#bd3786\"],[0.5555555555555556,\"#d8576b\"],[0.6666666666666666,\"#ed7953\"],[0.7777777777777778,\"#fb9f3a\"],[0.8888888888888888,\"#fdca26\"],[1.0,\"#f0f921\"]],\"type\":\"histogram2dcontour\"}],\"mesh3d\":[{\"colorbar\":{\"outlinewidth\":0,\"ticks\":\"\"},\"type\":\"mesh3d\"}],\"parcoords\":[{\"line\":{\"colorbar\":{\"outlinewidth\":0,\"ticks\":\"\"}},\"type\":\"parcoords\"}],\"pie\":[{\"automargin\":true,\"type\":\"pie\"}],\"scatter\":[{\"marker\":{\"colorbar\":{\"outlinewidth\":0,\"ticks\":\"\"}},\"type\":\"scatter\"}],\"scatter3d\":[{\"line\":{\"colorbar\":{\"outlinewidth\":0,\"ticks\":\"\"}},\"marker\":{\"colorbar\":{\"outlinewidth\":0,\"ticks\":\"\"}},\"type\":\"scatter3d\"}],\"scattercarpet\":[{\"marker\":{\"colorbar\":{\"outlinewidth\":0,\"ticks\":\"\"}},\"type\":\"scattercarpet\"}],\"scattergeo\":[{\"marker\":{\"colorbar\":{\"outlinewidth\":0,\"ticks\":\"\"}},\"type\":\"scattergeo\"}],\"scattergl\":[{\"marker\":{\"colorbar\":{\"outlinewidth\":0,\"ticks\":\"\"}},\"type\":\"scattergl\"}],\"scattermapbox\":[{\"marker\":{\"colorbar\":{\"outlinewidth\":0,\"ticks\":\"\"}},\"type\":\"scattermapbox\"}],\"scatterpolar\":[{\"marker\":{\"colorbar\":{\"outlinewidth\":0,\"ticks\":\"\"}},\"type\":\"scatterpolar\"}],\"scatterpolargl\":[{\"marker\":{\"colorbar\":{\"outlinewidth\":0,\"ticks\":\"\"}},\"type\":\"scatterpolargl\"}],\"scatterternary\":[{\"marker\":{\"colorbar\":{\"outlinewidth\":0,\"ticks\":\"\"}},\"type\":\"scatterternary\"}],\"surface\":[{\"colorbar\":{\"outlinewidth\":0,\"ticks\":\"\"},\"colorscale\":[[0.0,\"#0d0887\"],[0.1111111111111111,\"#46039f\"],[0.2222222222222222,\"#7201a8\"],[0.3333333333333333,\"#9c179e\"],[0.4444444444444444,\"#bd3786\"],[0.5555555555555556,\"#d8576b\"],[0.6666666666666666,\"#ed7953\"],[0.7777777777777778,\"#fb9f3a\"],[0.8888888888888888,\"#fdca26\"],[1.0,\"#f0f921\"]],\"type\":\"surface\"}],\"table\":[{\"cells\":{\"fill\":{\"color\":\"#EBF0F8\"},\"line\":{\"color\":\"white\"}},\"header\":{\"fill\":{\"color\":\"#C8D4E3\"},\"line\":{\"color\":\"white\"}},\"type\":\"table\"}]},\"layout\":{\"annotationdefaults\":{\"arrowcolor\":\"#2a3f5f\",\"arrowhead\":0,\"arrowwidth\":1},\"autotypenumbers\":\"strict\",\"coloraxis\":{\"colorbar\":{\"outlinewidth\":0,\"ticks\":\"\"}},\"colorscale\":{\"diverging\":[[0,\"#8e0152\"],[0.1,\"#c51b7d\"],[0.2,\"#de77ae\"],[0.3,\"#f1b6da\"],[0.4,\"#fde0ef\"],[0.5,\"#f7f7f7\"],[0.6,\"#e6f5d0\"],[0.7,\"#b8e186\"],[0.8,\"#7fbc41\"],[0.9,\"#4d9221\"],[1,\"#276419\"]],\"sequential\":[[0.0,\"#0d0887\"],[0.1111111111111111,\"#46039f\"],[0.2222222222222222,\"#7201a8\"],[0.3333333333333333,\"#9c179e\"],[0.4444444444444444,\"#bd3786\"],[0.5555555555555556,\"#d8576b\"],[0.6666666666666666,\"#ed7953\"],[0.7777777777777778,\"#fb9f3a\"],[0.8888888888888888,\"#fdca26\"],[1.0,\"#f0f921\"]],\"sequentialminus\":[[0.0,\"#0d0887\"],[0.1111111111111111,\"#46039f\"],[0.2222222222222222,\"#7201a8\"],[0.3333333333333333,\"#9c179e\"],[0.4444444444444444,\"#bd3786\"],[0.5555555555555556,\"#d8576b\"],[0.6666666666666666,\"#ed7953\"],[0.7777777777777778,\"#fb9f3a\"],[0.8888888888888888,\"#fdca26\"],[1.0,\"#f0f921\"]]},\"colorway\":[\"#636efa\",\"#EF553B\",\"#00cc96\",\"#ab63fa\",\"#FFA15A\",\"#19d3f3\",\"#FF6692\",\"#B6E880\",\"#FF97FF\",\"#FECB52\"],\"font\":{\"color\":\"#2a3f5f\"},\"geo\":{\"bgcolor\":\"white\",\"lakecolor\":\"white\",\"landcolor\":\"#E5ECF6\",\"showlakes\":true,\"showland\":true,\"subunitcolor\":\"white\"},\"hoverlabel\":{\"align\":\"left\"},\"hovermode\":\"closest\",\"mapbox\":{\"style\":\"light\"},\"paper_bgcolor\":\"white\",\"plot_bgcolor\":\"#E5ECF6\",\"polar\":{\"angularaxis\":{\"gridcolor\":\"white\",\"linecolor\":\"white\",\"ticks\":\"\"},\"bgcolor\":\"#E5ECF6\",\"radialaxis\":{\"gridcolor\":\"white\",\"linecolor\":\"white\",\"ticks\":\"\"}},\"scene\":{\"xaxis\":{\"backgroundcolor\":\"#E5ECF6\",\"gridcolor\":\"white\",\"gridwidth\":2,\"linecolor\":\"white\",\"showbackground\":true,\"ticks\":\"\",\"zerolinecolor\":\"white\"},\"yaxis\":{\"backgroundcolor\":\"#E5ECF6\",\"gridcolor\":\"white\",\"gridwidth\":2,\"linecolor\":\"white\",\"showbackground\":true,\"ticks\":\"\",\"zerolinecolor\":\"white\"},\"zaxis\":{\"backgroundcolor\":\"#E5ECF6\",\"gridcolor\":\"white\",\"gridwidth\":2,\"linecolor\":\"white\",\"showbackground\":true,\"ticks\":\"\",\"zerolinecolor\":\"white\"}},\"shapedefaults\":{\"line\":{\"color\":\"#2a3f5f\"}},\"ternary\":{\"aaxis\":{\"gridcolor\":\"white\",\"linecolor\":\"white\",\"ticks\":\"\"},\"baxis\":{\"gridcolor\":\"white\",\"linecolor\":\"white\",\"ticks\":\"\"},\"bgcolor\":\"#E5ECF6\",\"caxis\":{\"gridcolor\":\"white\",\"linecolor\":\"white\",\"ticks\":\"\"}},\"title\":{\"x\":0.05},\"xaxis\":{\"automargin\":true,\"gridcolor\":\"white\",\"linecolor\":\"white\",\"ticks\":\"\",\"title\":{\"standoff\":15},\"zerolinecolor\":\"white\",\"zerolinewidth\":2},\"yaxis\":{\"automargin\":true,\"gridcolor\":\"white\",\"linecolor\":\"white\",\"ticks\":\"\",\"title\":{\"standoff\":15},\"zerolinecolor\":\"white\",\"zerolinewidth\":2}}},\"xaxis\":{\"anchor\":\"y\",\"domain\":[0.0,1.0],\"title\":{\"text\":\"type\"}},\"yaxis\":{\"anchor\":\"x\",\"domain\":[0.0,1.0],\"title\":{\"text\":\"value\"},\"type\":\"log\"},\"legend\":{\"title\":{\"text\":\"variable\"},\"tracegroupgap\":0},\"title\":{\"text\":\"comparision\"},\"barmode\":\"group\"},                        {\"responsive\": true}                    ).then(function(){\n",
              "                            \n",
              "var gd = document.getElementById('00cb2a1a-4a4b-49a4-a315-a3eb7f690e83');\n",
              "var x = new MutationObserver(function (mutations, observer) {{\n",
              "        var display = window.getComputedStyle(gd).display;\n",
              "        if (!display || display === 'none') {{\n",
              "            console.log([gd, 'removed!']);\n",
              "            Plotly.purge(gd);\n",
              "            observer.disconnect();\n",
              "        }}\n",
              "}});\n",
              "\n",
              "// Listen for the removal of the full notebook cells\n",
              "var notebookContainer = gd.closest('#notebook-container');\n",
              "if (notebookContainer) {{\n",
              "    x.observe(notebookContainer, {childList: true});\n",
              "}}\n",
              "\n",
              "// Listen for the clearing of the current output cell\n",
              "var outputEl = gd.closest('.output');\n",
              "if (outputEl) {{\n",
              "    x.observe(outputEl, {childList: true});\n",
              "}}\n",
              "\n",
              "                        })                };                            </script>        </div>\n",
              "</body>\n",
              "</html>"
            ]
          },
          "metadata": {}
        }
      ],
      "source": [
        "import pandas as pd\n",
        "import plotly.express as px\n",
        "\n",
        "px.bar(df_comparison, x='type', y=['MSE', 'RMSE', 'MAE'], barmode='group', title='comparision',log_y=True)"
      ]
    },
    {
      "cell_type": "markdown",
      "source": [
        "![newplot.png](data:image/png;base64,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)"
      ],
      "metadata": {
        "id": "0nXsUAbpLcY8"
      }
    },
    {
      "cell_type": "code",
      "source": [
        "df_comparison.plot(kind='bar', figsize=(15,10),logy=True)\n",
        "plt.grid(which='major')\n",
        "plt.show()"
      ],
      "metadata": {
        "colab": {
          "base_uri": "https://localhost:8080/",
          "height": 500
        },
        "id": "dz3UBgFYLHxO",
        "outputId": "ac5cdf40-e04c-47a8-e9de-eea7671df20b"
      },
      "execution_count": 131,
      "outputs": [
        {
          "output_type": "display_data",
          "data": {
            "text/plain": [
              "<Figure size 1080x720 with 1 Axes>"
            ],
            "image/png": "[encoded data removed]"
          },
          "metadata": {
            "needs_background": "light"
          }
        }
      ]
    },
    {
      "cell_type": "markdown",
      "source": [
        "## 3/4Discussion"
      ],
      "metadata": {
        "id": "9q2Ul11nyMrg"
      }
    },
    {
      "cell_type": "code",
      "source": [
        "from google.colab import drive\n",
        "import pandas as pd\n",
        "drive.mount('/content/gdrive')"
      ],
      "metadata": {
        "colab": {
          "base_uri": "https://localhost:8080/"
        },
        "id": "yarT4ucGCHwx",
        "outputId": "d3f8641c-ed71-420e-dac7-1d6b232c9d7b"
      },
      "execution_count": null,
      "outputs": [
        {
          "output_type": "stream",
          "name": "stdout",
          "text": [
            "Mounted at /content/gdrive\n"
          ]
        }
      ]
    },
    {
      "cell_type": "code",
      "source": [
        "df = pd.read_csv('/content/gdrive/Shareddrives/06_computer science/00_master_course/advanced/dataset/pima-indians-diabetes.csv')\n",
        "df.head()"
      ],
      "metadata": {
        "colab": {
          "base_uri": "https://localhost:8080/",
          "height": 206
        },
        "id": "wdqyl5znyQXk",
        "outputId": "fc5fb261-f394-43da-a180-faa91e8bd71c"
      },
      "execution_count": null,
      "outputs": [
        {
          "output_type": "execute_result",
          "data": {
            "text/plain": [
              "   Pregnancy  Glucose  BloodPressure  Tricep  Insulin   BMI    DPF  Age  \\\n",
              "0          6      148             72      35        0  33.6  0.627   50   \n",
              "1          1       85             66      29        0  26.6  0.351   31   \n",
              "2          8      183             64       0        0  23.3  0.672   32   \n",
              "3          1       89             66      23       94  28.1  0.167   21   \n",
              "4          0      137             40      35      168  43.1  2.288   33   \n",
              "\n",
              "   Diabetes  \n",
              "0         1  \n",
              "1         0  \n",
              "2         1  \n",
              "3         0  \n",
              "4         1  "
            ],
            "text/html": [
              "\n",
              "  <div id=\"df-587ac062-50d4-4bb3-b565-7c1ebe6c85a9\">\n",
              "    <div class=\"colab-df-container\">\n",
              "      <div>\n",
              "<style scoped>\n",
              "    .dataframe tbody tr th:only-of-type {\n",
              "        vertical-align: middle;\n",
              "    }\n",
              "\n",
              "    .dataframe tbody tr th {\n",
              "        vertical-align: top;\n",
              "    }\n",
              "\n",
              "    .dataframe thead th {\n",
              "        text-align: right;\n",
              "    }\n",
              "</style>\n",
              "<table border=\"1\" class=\"dataframe\">\n",
              "  <thead>\n",
              "    <tr style=\"text-align: right;\">\n",
              "      <th></th>\n",
              "      <th>Pregnancy</th>\n",
              "      <th>Glucose</th>\n",
              "      <th>BloodPressure</th>\n",
              "      <th>Tricep</th>\n",
              "      <th>Insulin</th>\n",
              "      <th>BMI</th>\n",
              "      <th>DPF</th>\n",
              "      <th>Age</th>\n",
              "      <th>Diabetes</th>\n",
              "    </tr>\n",
              "  </thead>\n",
              "  <tbody>\n",
              "    <tr>\n",
              "      <th>0</th>\n",
              "      <td>6</td>\n",
              "      <td>148</td>\n",
              "      <td>72</td>\n",
              "      <td>35</td>\n",
              "      <td>0</td>\n",
              "      <td>33.6</td>\n",
              "      <td>0.627</td>\n",
              "      <td>50</td>\n",
              "      <td>1</td>\n",
              "    </tr>\n",
              "    <tr>\n",
              "      <th>1</th>\n",
              "      <td>1</td>\n",
              "      <td>85</td>\n",
              "      <td>66</td>\n",
              "      <td>29</td>\n",
              "      <td>0</td>\n",
              "      <td>26.6</td>\n",
              "      <td>0.351</td>\n",
              "      <td>31</td>\n",
              "      <td>0</td>\n",
              "    </tr>\n",
              "    <tr>\n",
              "      <th>2</th>\n",
              "      <td>8</td>\n",
              "      <td>183</td>\n",
              "      <td>64</td>\n",
              "      <td>0</td>\n",
              "      <td>0</td>\n",
              "      <td>23.3</td>\n",
              "      <td>0.672</td>\n",
              "      <td>32</td>\n",
              "      <td>1</td>\n",
              "    </tr>\n",
              "    <tr>\n",
              "      <th>3</th>\n",
              "      <td>1</td>\n",
              "      <td>89</td>\n",
              "      <td>66</td>\n",
              "      <td>23</td>\n",
              "      <td>94</td>\n",
              "      <td>28.1</td>\n",
              "      <td>0.167</td>\n",
              "      <td>21</td>\n",
              "      <td>0</td>\n",
              "    </tr>\n",
              "    <tr>\n",
              "      <th>4</th>\n",
              "      <td>0</td>\n",
              "      <td>137</td>\n",
              "      <td>40</td>\n",
              "      <td>35</td>\n",
              "      <td>168</td>\n",
              "      <td>43.1</td>\n",
              "      <td>2.288</td>\n",
              "      <td>33</td>\n",
              "      <td>1</td>\n",
              "    </tr>\n",
              "  </tbody>\n",
              "</table>\n",
              "</div>\n",
              "      <button class=\"colab-df-convert\" onclick=\"convertToInteractive('df-587ac062-50d4-4bb3-b565-7c1ebe6c85a9')\"\n",
              "              title=\"Convert this dataframe to an interactive table.\"\n",
              "              style=\"display:none;\">\n",
              "        \n",
              "  <svg xmlns=\"http://www.w3.org/2000/svg\" height=\"24px\"viewBox=\"0 0 24 24\"\n",
              "       width=\"24px\">\n",
              "    <path d=\"M0 0h24v24H0V0z\" fill=\"none\"/>\n",
              "    <path d=\"M18.56 5.44l.94 2.06.94-2.06 2.06-.94-2.06-.94-.94-2.06-.94 2.06-2.06.94zm-11 1L8.5 8.5l.94-2.06 2.06-.94-2.06-.94L8.5 2.5l-.94 2.06-2.06.94zm10 10l.94 2.06.94-2.06 2.06-.94-2.06-.94-.94-2.06-.94 2.06-2.06.94z\"/><path d=\"M17.41 7.96l-1.37-1.37c-.4-.4-.92-.59-1.43-.59-.52 0-1.04.2-1.43.59L10.3 9.45l-7.72 7.72c-.78.78-.78 2.05 0 2.83L4 21.41c.39.39.9.59 1.41.59.51 0 1.02-.2 1.41-.59l7.78-7.78 2.81-2.81c.8-.78.8-2.07 0-2.86zM5.41 20L4 18.59l7.72-7.72 1.47 1.35L5.41 20z\"/>\n",
              "  </svg>\n",
              "      </button>\n",
              "      \n",
              "  <style>\n",
              "    .colab-df-container {\n",
              "      display:flex;\n",
              "      flex-wrap:wrap;\n",
              "      gap: 12px;\n",
              "    }\n",
              "\n",
              "    .colab-df-convert {\n",
              "      background-color: #E8F0FE;\n",
              "      border: none;\n",
              "      border-radius: 50%;\n",
              "      cursor: pointer;\n",
              "      display: none;\n",
              "      fill: #1967D2;\n",
              "      height: 32px;\n",
              "      padding: 0 0 0 0;\n",
              "      width: 32px;\n",
              "    }\n",
              "\n",
              "    .colab-df-convert:hover {\n",
              "      background-color: #E2EBFA;\n",
              "      box-shadow: 0px 1px 2px rgba(60, 64, 67, 0.3), 0px 1px 3px 1px rgba(60, 64, 67, 0.15);\n",
              "      fill: #174EA6;\n",
              "    }\n",
              "\n",
              "    [theme=dark] .colab-df-convert {\n",
              "      background-color: #3B4455;\n",
              "      fill: #D2E3FC;\n",
              "    }\n",
              "\n",
              "    [theme=dark] .colab-df-convert:hover {\n",
              "      background-color: #434B5C;\n",
              "      box-shadow: 0px 1px 3px 1px rgba(0, 0, 0, 0.15);\n",
              "      filter: drop-shadow(0px 1px 2px rgba(0, 0, 0, 0.3));\n",
              "      fill: #FFFFFF;\n",
              "    }\n",
              "  </style>\n",
              "\n",
              "      <script>\n",
              "        const buttonEl =\n",
              "          document.querySelector('#df-587ac062-50d4-4bb3-b565-7c1ebe6c85a9 button.colab-df-convert');\n",
              "        buttonEl.style.display =\n",
              "          google.colab.kernel.accessAllowed ? 'block' : 'none';\n",
              "\n",
              "        async function convertToInteractive(key) {\n",
              "          const element = document.querySelector('#df-587ac062-50d4-4bb3-b565-7c1ebe6c85a9');\n",
              "          const dataTable =\n",
              "            await google.colab.kernel.invokeFunction('convertToInteractive',\n",
              "                                                     [key], {});\n",
              "          if (!dataTable) return;\n",
              "\n",
              "          const docLinkHtml = 'Like what you see? Visit the ' +\n",
              "            '<a target=\"_blank\" href=https://colab.research.google.com/notebooks/data_table.ipynb>data table notebook</a>'\n",
              "            + ' to learn more about interactive tables.';\n",
              "          element.innerHTML = '';\n",
              "          dataTable['output_type'] = 'display_data';\n",
              "          await google.colab.output.renderOutput(dataTable, element);\n",
              "          const docLink = document.createElement('div');\n",
              "          docLink.innerHTML = docLinkHtml;\n",
              "          element.appendChild(docLink);\n",
              "        }\n",
              "      </script>\n",
              "    </div>\n",
              "  </div>\n",
              "  "
            ]
          },
          "metadata": {},
          "execution_count": 3
        }
      ]
    },
    {
      "cell_type": "code",
      "source": [
        "df['Diabetes'].value_counts()"
      ],
      "metadata": {
        "colab": {
          "base_uri": "https://localhost:8080/"
        },
        "id": "gYHQV7ajCd8Q",
        "outputId": "49de8fc2-98a2-448e-a5e9-54d490a0eafd"
      },
      "execution_count": null,
      "outputs": [
        {
          "output_type": "execute_result",
          "data": {
            "text/plain": [
              "0    500\n",
              "1    268\n",
              "Name: Diabetes, dtype: int64"
            ]
          },
          "metadata": {},
          "execution_count": 4
        }
      ]
    },
    {
      "cell_type": "code",
      "source": [
        "X = df.drop('Diabetes', axis=1)\n",
        "y = df.Diabetes"
      ],
      "metadata": {
        "id": "ZoKyh-9ZFPrm"
      },
      "execution_count": null,
      "outputs": []
    },
    {
      "cell_type": "code",
      "source": [
        "from sklearn import svm\n",
        "from sklearn.linear_model import LogisticRegression\n",
        "from sklearn.model_selection import cross_val_score, cross_validate, cross_val_predict\n",
        "import numpy as np"
      ],
      "metadata": {
        "id": "KPEO8Gx8C2sQ"
      },
      "execution_count": null,
      "outputs": []
    },
    {
      "cell_type": "code",
      "source": [
        "weights = {0:1.0, 1:1.01}\n",
        "model_svc = svm.SVC(kernel='linear', gamma='scale',class_weight=weights,decision_function_shape='ovo')\n",
        "print(np.mean(cross_val_score(model_svc, X, y, cv=5)))"
      ],
      "metadata": {
        "colab": {
          "base_uri": "https://localhost:8080/"
        },
        "id": "G5nBG6ZVFA4v",
        "outputId": "426d1d6e-dc11-4b74-8e24-36f09ed2b5b7"
      },
      "execution_count": null,
      "outputs": [
        {
          "output_type": "stream",
          "name": "stdout",
          "text": [
            "0.7682794329853154\n"
          ]
        }
      ]
    },
    {
      "cell_type": "code",
      "source": [
        "weights = {0:1.0, 1:1.03}\n",
        "clf_lr = LogisticRegression(class_weight=weights)\n",
        "print(np.mean(cross_val_score(clf_lr, X, y, cv=5,n_jobs=-1)))\n",
        "# output: 0.7734912146676853"
      ],
      "metadata": {
        "colab": {
          "base_uri": "https://localhost:8080/"
        },
        "id": "SsT-CxG_QV-Y",
        "outputId": "d5e324e8-5d8b-4ed0-a7ca-aaebae34bdcf"
      },
      "execution_count": null,
      "outputs": [
        {
          "output_type": "stream",
          "name": "stdout",
          "text": [
            "0.7734912146676853\n"
          ]
        }
      ]
    },
    {
      "cell_type": "code",
      "source": [
        "weights = {0:1.0, 1:1.01}\n",
        "clf_lr = LogisticRegression(penalty = 'l1' ,solver = \"liblinear\", class_weight = weights)\n",
        "print(np.mean(cross_val_score(clf_lr, X, y, cv=5,n_jobs=-1)))\n",
        "# output: 0.7734912146676853"
      ],
      "metadata": {
        "colab": {
          "base_uri": "https://localhost:8080/"
        },
        "id": "EedQXLgQO0Ij",
        "outputId": "9b237bb9-3d58-4d50-8fc2-ad1a8e7e8861"
      },
      "execution_count": null,
      "outputs": [
        {
          "output_type": "stream",
          "name": "stdout",
          "text": [
            "0.7695866225277991\n"
          ]
        }
      ]
    },
    {
      "cell_type": "markdown",
      "source": [
        "# skill \n",
        "*   reshape(-1,1)\n",
        "*  https://blog.51cto.com/u_15054047/4171947\n",
        "\n",
        "\n",
        "\n",
        "*   flatten()\n",
        "\n",
        "\n"
      ],
      "metadata": {
        "id": "H6Is0q63Bo16"
      }
    }
  ],
  "metadata": {
    "kernelspec": {
      "display_name": "Python 3",
      "language": "python",
      "name": "python3"
    },
    "language_info": {
      "codemirror_mode": {
        "name": "ipython",
        "version": 3
      },
      "file_extension": ".py",
      "mimetype": "text/x-python",
      "name": "python",
      "nbconvert_exporter": "python",
      "pygments_lexer": "ipython3",
      "version": "3.8.8"
    },
    "colab": {
      "provenance": [],
      "collapsed_sections": [
        "3b0yHeNmxTup",
        "4_mtV9VhxTup",
        "-8oCMxGxxTup",
        "10ZoMRUjxTuq",
        "91g0uv7gxTuq"
      ],
      "toc_visible": true
    }
  },
  "nbformat": 4,
  "nbformat_minor": 0
}